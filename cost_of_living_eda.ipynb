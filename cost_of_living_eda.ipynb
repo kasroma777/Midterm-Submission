{
  "cells": [
    {
      "cell_type": "markdown",
      "id": "e6d291f2",
      "metadata": {
        "id": "e6d291f2"
      },
      "source": [
        "\n",
        "# Global Cost of Living & Affordability — EDA\n",
        "\n",
        "This project analyzes the global cost of living using The Economist’s Big Mac Index combined with World Bank indicators.\n",
        "\n",
        "The goal is to explore how Big Mac prices relate to GDP per capita, inflation, unemployment, and income inequality across different countries and regions.\n",
        "Through data cleaning, visualization, and simple modeling, the project highlights affordability patterns and global economic differences.\n",
        "\n",
        "\n",
        "#Project Summary\n",
        "Data Sources:\n",
        "\n",
        "Big Mac Index (The Economist, 2000–latest year)\n",
        "\n",
        "World Bank Indicators via wbgapi\n",
        "\n",
        "Dataset Size: ~1,900 rows × 21 features\n",
        "\n",
        "Countries: 73\n",
        "\n",
        "Indicators Used: GDP per capita, inflation, unemployment, urban %, population, and Gini index\n",
        "\n",
        "\n",
        "#Key Steps\n",
        "Data Cleaning & Preparation\n",
        "\n",
        "Loaded data directly from The Economist’s GitHub and the World Bank API.\n",
        "\n",
        "Standardized dates, country codes, and currency fields.\n",
        "\n",
        "Merged both datasets by ISO3 and year.\n",
        "\n",
        "Filled missing values within each country.\n",
        "\n",
        "Feature Engineering\n",
        "\n",
        "Visualization\n",
        "\n",
        "Statistical Modeling\n",
        "\n",
        "\n",
        "#Results\n",
        "Global Mean Big Mac Price: $4.96\n",
        "\n",
        "Median Price: $3.69\n",
        "\n",
        "Average Price Growth (2000–2022): ~3.6% per year\n",
        "\n",
        "Correlation (log price vs log GDP): 0.20 (weak positive)\n",
        "\n",
        "Most Volatile Prices: Lebanon, Venezuela, Argentina\n",
        "\n",
        "93% of countries have Big Macs cheaper than the U.S.\n",
        "\n",
        "\n",
        "\n",
        "#Summary\n",
        "\n",
        "This project connects global economics and data visualization in an approachable way.\n",
        "\n",
        "By analyzing burger prices alongside World Bank indicators, it highlights how affordability varies around the world — showing that something as simple as a Big Mac can reveal real economic differences in income, inflation, and purchasing power."
      ]
    },
    {
      "cell_type": "markdown",
      "source": [
        "#Import All Necessary Items"
      ],
      "metadata": {
        "id": "vqjn7HicvAqp"
      },
      "id": "vqjn7HicvAqp"
    },
    {
      "cell_type": "code",
      "execution_count": null,
      "id": "704f73de",
      "metadata": {
        "colab": {
          "base_uri": "https://localhost:8080/"
        },
        "id": "704f73de",
        "outputId": "cb8405fa-ba7b-4f1b-91ff-f752358bf60e"
      },
      "outputs": [
        {
          "output_type": "stream",
          "name": "stdout",
          "text": [
            "Collecting wbgapi\n",
            "  Downloading wbgapi-1.0.12-py3-none-any.whl.metadata (13 kB)\n",
            "Requirement already satisfied: requests in /usr/local/lib/python3.12/dist-packages (from wbgapi) (2.32.4)\n",
            "Requirement already satisfied: PyYAML in /usr/local/lib/python3.12/dist-packages (from wbgapi) (6.0.3)\n",
            "Requirement already satisfied: tabulate in /usr/local/lib/python3.12/dist-packages (from wbgapi) (0.9.0)\n",
            "Requirement already satisfied: charset_normalizer<4,>=2 in /usr/local/lib/python3.12/dist-packages (from requests->wbgapi) (3.4.4)\n",
            "Requirement already satisfied: idna<4,>=2.5 in /usr/local/lib/python3.12/dist-packages (from requests->wbgapi) (3.11)\n",
            "Requirement already satisfied: urllib3<3,>=1.21.1 in /usr/local/lib/python3.12/dist-packages (from requests->wbgapi) (2.5.0)\n",
            "Requirement already satisfied: certifi>=2017.4.17 in /usr/local/lib/python3.12/dist-packages (from requests->wbgapi) (2025.10.5)\n",
            "Downloading wbgapi-1.0.12-py3-none-any.whl (36 kB)\n",
            "Installing collected packages: wbgapi\n",
            "Successfully installed wbgapi-1.0.12\n"
          ]
        }
      ],
      "source": [
        "%pip install wbgapi"
      ]
    },
    {
      "cell_type": "code",
      "execution_count": null,
      "id": "53bEBpFPKwzD",
      "metadata": {
        "colab": {
          "base_uri": "https://localhost:8080/"
        },
        "id": "53bEBpFPKwzD",
        "outputId": "f09419cb-6055-4dd9-e2e6-29bbe8863eda"
      },
      "outputs": [
        {
          "output_type": "stream",
          "name": "stdout",
          "text": [
            "======================================================================\n",
            "GLOBAL COST OF LIVING ANALYSIS: Big Mac Index & Economic Indicators\n",
            "======================================================================\n"
          ]
        }
      ],
      "source": [
        "import warnings\n",
        "warnings.filterwarnings(\"ignore\")\n",
        "\n",
        "import pandas as pd\n",
        "import numpy as np\n",
        "import plotly.express as px\n",
        "import plotly.graph_objects as go\n",
        "from plotly.subplots import make_subplots\n",
        "import plotly.io as pio\n",
        "import wbgapi as wb\n",
        "\n",
        "\n",
        "import statsmodels.api as sm\n",
        "from sklearn.preprocessing import StandardScaler\n",
        "from sklearn.cluster import KMeans\n",
        "import wbgapi as wb\n",
        "from pathlib import Path\n",
        "\n",
        "# Optional but nice: consistent styling\n",
        "pio.templates.default = \"plotly_white\"\n",
        "pd.set_option(\"display.max_columns\", 80)\n",
        "\n",
        "# Folders\n",
        "BASE = Path.cwd()\n",
        "DATA_DIR = BASE / \"data\"\n",
        "FIG_DIR  = BASE / \"figures\"\n",
        "DATA_DIR.mkdir(exist_ok=True)\n",
        "FIG_DIR.mkdir(exist_ok=True)\n",
        "\n",
        "def save_fig(fig, name: str):\n",
        "    \"\"\"\n",
        "    Save figure as PNG (if Kaleido is present) and always as HTML.\n",
        "    \"\"\"\n",
        "    try:\n",
        "        fig.write_image(str(FIG_DIR / f\"{name}.png\"))\n",
        "    except Exception:\n",
        "        pass\n",
        "    fig.write_html(str(FIG_DIR / f\"{name}.html\"), include_plotlyjs=\"cdn\", full_html=False)\n",
        "    print(f\"   ✓ Saved figures/{name}.html\" + (\" and .png\" if (FIG_DIR / f'{name}.png').exists() else \"\"))\n",
        "\n",
        "def first_col(df: pd.DataFrame, options):\n",
        "    \"\"\"Return existing column matching any of options (case-insensitive).\"\"\"\n",
        "    low = {c.lower(): c for c in df.columns}\n",
        "    for opt in options:\n",
        "        if opt.lower() in low:\n",
        "            return low[opt.lower()]\n",
        "    raise KeyError(f\"None of {options} found in columns: {list(df.columns)}\")\n",
        "\n",
        "print(\"=\" * 70)\n",
        "print(\"GLOBAL COST OF LIVING ANALYSIS: Big Mac Index & Economic Indicators\")\n",
        "print(\"=\" * 70)"
      ]
    },
    {
      "cell_type": "markdown",
      "source": [
        "#Loading in Big Mac Data"
      ],
      "metadata": {
        "id": "5RrDcKzavHu2"
      },
      "id": "5RrDcKzavHu2"
    },
    {
      "cell_type": "code",
      "execution_count": null,
      "id": "836233fc",
      "metadata": {
        "colab": {
          "base_uri": "https://localhost:8080/"
        },
        "id": "836233fc",
        "outputId": "e8c2ed18-dbdc-4318-975c-1ffe5b86a128"
      },
      "outputs": [
        {
          "output_type": "stream",
          "name": "stdout",
          "text": [
            "STEP 1: Loading Big Mac Index data\n",
            "   → Raw data loaded: (1948, 7)\n",
            "   → Available columns: ['name', 'iso_a3', 'currency_code', 'local_price', 'dollar_ex', 'GDP_dollar', 'date']\n",
            "   → Calculated usd_price from local_price / dollar_ex\n",
            "   ✓ Countries: 73\n",
            "   ✓ Time range: 2000 - 2022\n",
            "   ✓ Total observations: 1,947\n"
          ]
        }
      ],
      "source": [
        "print(\"STEP 1: Loading Big Mac Index data\")\n",
        "\n",
        "# URL from The Economist's GitHub\n",
        "BIG_MAC_URL = \"https://raw.githubusercontent.com/TheEconomist/big-mac-data/master/source-data/big-mac-source-data.csv\"\n",
        "\n",
        "bm = pd.read_csv(BIG_MAC_URL)\n",
        "print(f\"   → Raw data loaded: {bm.shape}\")\n",
        "print(f\"   → Available columns: {list(bm.columns)}\")\n",
        "\n",
        "# Process based on actual columns\n",
        "bm['date'] = pd.to_datetime(bm['date'])\n",
        "bm['year'] = bm['date'].dt.year\n",
        "\n",
        "# Create standardized column names based on what exists\n",
        "bm = bm.copy()\n",
        "\n",
        "# ISO code\n",
        "if 'iso_a3' in bm.columns:\n",
        "    bm['iso3'] = bm['iso_a3'].str.upper()\n",
        "elif 'ISO' in bm.columns:\n",
        "    bm['iso3'] = bm['ISO'].str.upper()\n",
        "\n",
        "# Country name\n",
        "if 'name' in bm.columns:\n",
        "    bm['country'] = bm['name']\n",
        "\n",
        "# USD price - try multiple column names\n",
        "if 'dollar_price' in bm.columns:\n",
        "    bm['usd_price'] = bm['dollar_price']\n",
        "elif 'USD' in bm.columns:\n",
        "    bm['usd_price'] = bm['USD']\n",
        "elif 'usd' in bm.columns:\n",
        "    bm['usd_price'] = bm['usd']\n",
        "else:\n",
        "    # If no direct USD column, look for calculation method\n",
        "    if 'local_price' in bm.columns and 'dollar_ex' in bm.columns:\n",
        "        bm['usd_price'] = bm['local_price'] / bm['dollar_ex']\n",
        "        print(\"   → Calculated usd_price from local_price / dollar_ex\")\n",
        "\n",
        "# Verify we have required columns\n",
        "required = ['iso3', 'country', 'date', 'year', 'usd_price']\n",
        "missing = [col for col in required if col not in bm.columns]\n",
        "if missing:\n",
        "    print(f\"   ✗ ERROR: Missing columns: {missing}\")\n",
        "    print(f\"   Available: {list(bm.columns)}\")\n",
        "    raise ValueError(f\"Cannot proceed without: {missing}\")\n",
        "\n",
        "# Select only needed columns\n",
        "keep_cols = ['iso3', 'country', 'date', 'year', 'usd_price']\n",
        "if 'local_price' in bm.columns:\n",
        "    keep_cols.append('local_price')\n",
        "\n",
        "bm = bm[keep_cols].dropna(subset=['iso3', 'country', 'usd_price'])\n",
        "\n",
        "print(f\"   ✓ Countries: {bm['iso3'].nunique()}\")\n",
        "print(f\"   ✓ Time range: {bm['year'].min()} - {bm['year'].max()}\")\n",
        "print(f\"   ✓ Total observations: {len(bm):,}\")"
      ]
    },
    {
      "cell_type": "markdown",
      "source": [
        "#Loading in World Bank"
      ],
      "metadata": {
        "id": "s8iGA3SqvNMI"
      },
      "id": "s8iGA3SqvNMI"
    },
    {
      "cell_type": "code",
      "execution_count": null,
      "id": "24de58a8",
      "metadata": {
        "colab": {
          "base_uri": "https://localhost:8080/"
        },
        "id": "24de58a8",
        "outputId": "2a884897-6a98-4809-d8b2-ef1384128597"
      },
      "outputs": [
        {
          "output_type": "stream",
          "name": "stdout",
          "text": [
            "   ✓ Countries: 73 | Years: 2000–2022 | Rows: 1,947\n",
            "STEP 2: Load World Bank indicators\n"
          ]
        }
      ],
      "source": [
        "bm[\"year\"] = pd.to_datetime(bm[\"date\"]).dt.year.astype(int)\n",
        "\n",
        "bm = bm[[\"iso3\",\"country\",\"date\",\"year\",\"usd_price\",\"local_price\"]]\n",
        "print(f\"   ✓ Countries: {bm['iso3'].nunique()} | Years: {bm['year'].min()}–{bm['year'].max()} | Rows: {len(bm):,}\")\n",
        "\n",
        "# ============================= STEP 2: WORLD BANK INDICATORS =============================\n",
        "print(\"STEP 2: Load World Bank indicators\")\n",
        "\n",
        "# Recreate year defensively in case user runs cells out of order\n",
        "if \"year\" not in bm.columns:\n",
        "    bm[\"year\"] = pd.to_datetime(bm[\"date\"]).dt.year.astype(int)\n",
        "\n",
        "years_start = int(bm[\"year\"].min())\n",
        "years_end   = int(bm[\"year\"].max())\n",
        "years = range(years_start, years_end + 1)\n",
        "\n",
        "INDICATORS = {\n",
        "    \"NY.GDP.PCAP.PP.CD\": \"gdp_ppp_pc\",\n",
        "    \"FP.CPI.TOTL.ZG\":    \"inflation_pct\",\n",
        "    \"SL.UEM.TOTL.ZS\":    \"unemployment_pct\",\n",
        "    \"SP.URB.TOTL.IN.ZS\": \"urban_pct\",\n",
        "    \"SP.POP.TOTL\":       \"population\",\n",
        "    \"SI.POV.GINI\":       \"gini_index\",\n",
        "}\n",
        "\n",
        "wb_raw = wb.data.DataFrame(list(INDICATORS.keys()), time=years, labels=True).reset_index()\n",
        "wb_df = wb_raw.rename(columns={\"time\":\"year\",\"economy\":\"iso3\"})\n",
        "\n",
        "# Rename YRxxxx columns to year\n",
        "year_cols = {col: int(col[2:]) for col in wb_df.columns if col.startswith('YR')}\n",
        "wb_df = wb_df.rename(columns=year_cols)\n",
        "\n",
        "# Melt the DataFrame to have a single year column\n",
        "wb_df = wb_df.melt(id_vars=['iso3', 'series', 'Country', 'Series'],\n",
        "                   value_vars=year_cols.values(),\n",
        "                   var_name='year', value_name='value')\n",
        "\n",
        "# Pivot the DataFrame to have indicators as columns\n",
        "wb_df = wb_df.pivot_table(index=['iso3', 'year'], columns='series', values='value').reset_index()\n",
        "\n",
        "# Rename indicator columns\n",
        "for old,new in INDICATORS.items():\n",
        "    if old in wb_df.columns: wb_df = wb_df.rename(columns={old:new})\n",
        "\n",
        "wb_df[\"year\"] = wb_df[\"year\"].astype(int)\n",
        "\n",
        "# Region & income group\n",
        "meta = wb.economy.DataFrame().reset_index().rename(columns={\"id\":\"iso3\"})\n",
        "def _clean_meta(v):\n",
        "    s = str(v)\n",
        "    if \"value\" in s:\n",
        "        try: return s.split(\"value': '\",1)[1].split(\"'}\",1)[0]\n",
        "        except Exception: return None\n",
        "    return None\n",
        "meta[\"region\"] = meta[\"region\"].map(_clean_meta)\n",
        "meta[\"income_group\"] = meta[\"incomeLevel\"].map(_clean_meta)\n",
        "\n",
        "wb_df = wb_df.merge(meta[[\"iso3\",\"region\",\"income_group\"]], on=\"iso3\", how=\"left\")\n",
        "print(\"   ✓ WB frame:\", wb_df.shape)"
      ]
    },
    {
      "cell_type": "markdown",
      "source": [
        "#Merging Datasets"
      ],
      "metadata": {
        "id": "78I0j8ujvTU7"
      },
      "id": "78I0j8ujvTU7"
    },
    {
      "cell_type": "code",
      "execution_count": null,
      "id": "6d51ce29",
      "metadata": {
        "colab": {
          "base_uri": "https://localhost:8080/"
        },
        "id": "6d51ce29",
        "outputId": "8c693855-af50-4508-a800-4a1c3a61d35c"
      },
      "outputs": [
        {
          "output_type": "stream",
          "name": "stdout",
          "text": [
            "STEP 3: Merging datasets and engineering features\n",
            "   ✓ Final shape: (1947, 21)\n",
            "   ✓ Countries: 73\n",
            "   ✓ Saved to /content/data/processed_cost_of_living.csv\n"
          ]
        }
      ],
      "source": [
        "print(\"STEP 3: Merging datasets and engineering features\")\n",
        "\n",
        "df = bm.merge(wb_df, on=[\"iso3\", \"year\"], how=\"left\")\n",
        "\n",
        "# Fill missing macro values within each country (forward/back)\n",
        "for col in [\"gdp_ppp_pc\", \"inflation_pct\", \"unemployment_pct\", \"urban_pct\", \"gini_index\", \"population\"]:\n",
        "    if col in df.columns:\n",
        "        df[col] = df.groupby(\"iso3\")[col].transform(lambda s: s.ffill().bfill())\n",
        "\n",
        "# Derived metrics\n",
        "df[\"daily_gdp\"]     = df[\"gdp_ppp_pc\"] / 365.0\n",
        "df[\"afford_ratio\"]  = df[\"usd_price\"] / df[\"daily_gdp\"]         # burger / daily GDP per capita\n",
        "df[\"log_price\"]     = np.log(df[\"usd_price\"])\n",
        "df[\"log_gdp\"]       = np.log(df[\"gdp_ppp_pc\"])\n",
        "\n",
        "# Relative to USA price on the same date\n",
        "us_prices = df.loc[df[\"iso3\"].eq(\"USA\"), [\"date\", \"usd_price\"]].rename(columns={\"usd_price\": \"us_price\"})\n",
        "df = df.merge(us_prices, on=\"date\", how=\"left\")\n",
        "df[\"rel_to_us\"] = df[\"usd_price\"] / df[\"us_price\"]\n",
        "\n",
        "# Income quartiles (drop duplicates to avoid warnings with identical bins)\n",
        "df[\"income_quartile\"] = pd.qcut(df[\"gdp_ppp_pc\"], q=4,\n",
        "                                labels=[\"Q1-Low\", \"Q2-Mid-Low\", \"Q3-Mid-High\", \"Q4-High\"],\n",
        "                                duplicates=\"drop\")\n",
        "\n",
        "# Latest snapshot per country\n",
        "latest = df.loc[df.groupby(\"iso3\")[\"date\"].idxmax()].copy()\n",
        "\n",
        "# Save dataset\n",
        "output_file = DATA_DIR / \"processed_cost_of_living.csv\"\n",
        "df.to_csv(output_file, index=False)\n",
        "\n",
        "print(f\"   ✓ Final shape: {df.shape}\")\n",
        "print(f\"   ✓ Countries: {df['iso3'].nunique()}\")\n",
        "print(f\"   ✓ Saved to {output_file}\")\n",
        "\n"
      ]
    },
    {
      "cell_type": "markdown",
      "source": [
        "#Visualizations"
      ],
      "metadata": {
        "id": "pGNmD0R6vXUa"
      },
      "id": "pGNmD0R6vXUa"
    },
    {
      "cell_type": "code",
      "source": [
        "print(\"STEP 4: Visualizations (patched)\")\n",
        "\n",
        "import numpy as np\n",
        "import pandas as pd\n",
        "import plotly.express as px\n",
        "import plotly.graph_objects as go\n",
        "from plotly.subplots import make_subplots\n",
        "import plotly.io as pio\n",
        "\n",
        "# ensure plots render in notebook\n",
        "if not pio.renderers.default:\n",
        "    pio.renderers.default = \"notebook_connected\"\n",
        "\n",
        "def try_save(fig, name):\n",
        "    try:\n",
        "        save_fig(fig, name)\n",
        "    except Exception as e:\n",
        "        print(f\"[save skipped for {name}] {e}\")\n",
        "\n",
        "def has_cols(df, cols):\n",
        "    return all(c in df.columns for c in cols)\n",
        "\n",
        "# ---------- ensure required columns / frames exist ----------\n",
        "if \"year\" not in df.columns and \"date\" in df.columns:\n",
        "    df[\"year\"] = pd.to_datetime(df[\"date\"]).dt.year\n",
        "\n",
        "if \"latest\" not in globals() and \"latest\" not in locals():\n",
        "    if \"date\" in df.columns:\n",
        "        _maxd = pd.to_datetime(df[\"date\"]).max()\n",
        "        latest = df[pd.to_datetime(df[\"date\"]) == _maxd].copy()\n",
        "    else:\n",
        "        _maxy = int(df[\"year\"].max())\n",
        "        latest = df[df[\"year\"] == _maxy].copy()\n",
        "\n",
        "if latest.empty:\n",
        "    raise RuntimeError(\"Latest snapshot is empty after merge; cannot plot.\")\n",
        "\n",
        "# ---------- harden types so plots don't go empty ----------\n",
        "num_cols = [\"usd_price\",\"gdp_ppp_pc\",\"inflation_pct\",\"unemployment_pct\",\n",
        "            \"urban_pct\",\"gini_index\",\"population\",\"afford_ratio\",\"rel_to_us\"]\n",
        "for c in [c for c in num_cols if c in latest.columns]:\n",
        "    latest[c] = pd.to_numeric(latest[c], errors=\"coerce\")\n",
        "\n",
        "# Sometimes country is called 'name'; backfill if needed\n",
        "if \"country\" not in latest.columns and \"name\" in latest.columns:\n",
        "    latest[\"country\"] = latest[\"name\"]\n",
        "\n",
        "\n",
        "\n",
        "# =====================================================================\n",
        "# 1) GDP vs PRICE SCATTER\n",
        "# =====================================================================\n",
        "# ---------- 2) GDP vs PRICE SCATTER (Y-axis limited to 10 USD) ----------\n",
        "need_cols = [\"gdp_ppp_pc\", \"usd_price\", \"country\"]\n",
        "if has_cols(latest, need_cols):\n",
        "    scatter_data = latest.dropna(subset=[\"gdp_ppp_pc\", \"usd_price\", \"country\"])\n",
        "    if not scatter_data.empty:\n",
        "        fig4 = px.scatter(\n",
        "            scatter_data,\n",
        "            x=\"gdp_ppp_pc\",\n",
        "            y=\"usd_price\",\n",
        "            hover_name=\"country\",\n",
        "            color=\"region\" if \"region\" in scatter_data.columns else None,\n",
        "            size=\"population\" if \"population\" in scatter_data.columns else None,\n",
        "            trendline=\"ols\",\n",
        "            title=\"GDP per Capita (PPP) vs Big Mac Price (Latest)\",\n",
        "            labels={\n",
        "                \"gdp_ppp_pc\": \"GDP per capita, PPP (current int'l $)\",\n",
        "                \"usd_price\": \"Price (USD)\"\n",
        "            }\n",
        "        )\n",
        "\n",
        "        # Limit Y-axis to 10 USD for better readability\n",
        "        fig4.update_yaxes(range=[0, 10])\n",
        "\n",
        "        try_save(fig4, \"04_gdp_vs_price_scatter\")\n",
        "        fig4.show()\n",
        "\n",
        "\n",
        "# =====================================================================\n",
        "# 2) CHOROPLETH RELATIVE TO US\n",
        "# =====================================================================\n",
        "if has_cols(latest, [\"iso3\", \"rel_to_us\", \"country\"]):\n",
        "    map_data = latest.dropna(subset=[\"rel_to_us\", \"iso3\"]).copy()\n",
        "\n",
        "    if not map_data.empty:\n",
        "        import numpy as np\n",
        "        import pandas as pd\n",
        "        import plotly.express as px\n",
        "\n",
        "        # ======= choose your bin size here =======\n",
        "        BIN_STEP = 0.2\n",
        "        # =========================================\n",
        "\n",
        "        # Expand the range slightly so edge values show up and the legend is stable\n",
        "        data_min, data_max = map_data[\"rel_to_us\"].min(), map_data[\"rel_to_us\"].max()\n",
        "        vmin = np.floor((min(0.5, data_min)) / BIN_STEP) * BIN_STEP\n",
        "        vmax = np.ceil((max(2.0, data_max)) / BIN_STEP) * BIN_STEP\n",
        "\n",
        "        # Create bin edges and labels\n",
        "        edges = np.arange(vmin, vmax + BIN_STEP, BIN_STEP)\n",
        "        # Avoid zero-length if data is super narrow\n",
        "        if len(edges) < 3:\n",
        "            edges = np.array([vmin, vmin + BIN_STEP, vmin + 2*BIN_STEP])\n",
        "\n",
        "        # Bin and create readable labels (e.g., \"0.80–0.90\", \"0.90–1.00\", ...)\n",
        "        bins = pd.cut(\n",
        "            map_data[\"rel_to_us\"].clip(vmin, vmax),\n",
        "            bins=edges,\n",
        "            right=False,           # left-closed, right-open: [a, b)\n",
        "            include_lowest=True\n",
        "        )\n",
        "        labels = [f\"{left:.2f}–{right:.2f}\" for left, right in zip(edges[:-1], edges[1:])]\n",
        "        # Ensure consistent category order in legend\n",
        "        bins = bins.cat.set_categories(pd.IntervalIndex.from_breaks(edges, closed=\"left\"), ordered=True)\n",
        "        map_data[\"rel_bin\"] = bins.astype(str)  # use string labels for discrete legend\n",
        "\n",
        "        # Build a discrete color list, one per bin (Turbo is vivid; try 'Viridis'/'Plasma' if you prefer)\n",
        "        n_bins = len(edges) - 1\n",
        "        # sample evenly across a colorscale to get n discrete colors\n",
        "        stops = [i / max(n_bins - 1, 1) for i in range(n_bins)]\n",
        "        color_list = px.colors.sample_colorscale(\"Turbo\", stops)\n",
        "\n",
        "        fig5 = px.choropleth(\n",
        "            map_data,\n",
        "            locations=\"iso3\",\n",
        "            color=\"rel_bin\",                        # categorical → discrete legend\n",
        "            hover_name=\"country\",\n",
        "            color_discrete_sequence=color_list,\n",
        "            category_orders={\"rel_bin\": [str(iv) for iv in bins.cat.categories]},\n",
        "            title=\"Big Mac Price Relative to the United States (Latest)\",\n",
        "        )\n",
        "\n",
        "        # Better hover: show the actual numeric ratio too\n",
        "        fig5.update_traces(\n",
        "            hovertemplate=\"<b>%{hovertext}</b><br>Range: %{customdata[0]}<br>Ratio: %{customdata[1]:.2f}<extra></extra>\",\n",
        "            customdata=np.stack([map_data[\"rel_bin\"], map_data[\"rel_to_us\"]], axis=1)\n",
        "        )\n",
        "\n",
        "        # Styling\n",
        "        fig5.update_layout(\n",
        "            legend_title_text=\"Price Ratio vs US\",\n",
        "            geo=dict(showframe=False, showcoastlines=True, projection_type=\"natural earth\"),\n",
        "            margin=dict(l=10, r=10, t=50, b=10)\n",
        "        )\n",
        "\n",
        "        try_save(fig5, \"05_world_map_discrete\")\n",
        "        fig5.show()\n",
        "\n",
        "# =====================================================================\n",
        "# 3) TIME TRENDS\n",
        "# =====================================================================\n",
        "if \"year\" in df.columns and \"usd_price\" in df.columns:\n",
        "    agg_cols = {\"usd_price\":\"mean\"}\n",
        "    if \"afford_ratio\" in df.columns:\n",
        "        agg_cols[\"afford_ratio\"] = \"mean\"\n",
        "    yearly = df.groupby(\"year\", as_index=False).agg(agg_cols)\n",
        "    fig6 = make_subplots(specs=[[{\"secondary_y\": True}]])\n",
        "    fig6.add_trace(go.Scatter(x=yearly[\"year\"], y=yearly[\"usd_price\"],\n",
        "                              name=\"Avg Price (USD)\", mode=\"lines+markers\"),\n",
        "                   secondary_y=False)\n",
        "    if \"afford_ratio\" in yearly.columns:\n",
        "        fig6.add_trace(go.Scatter(x=yearly[\"year\"], y=yearly[\"afford_ratio\"],\n",
        "                                  name=\"Avg Affordability\", mode=\"lines+markers\"),\n",
        "                       secondary_y=True)\n",
        "        fig6.update_yaxes(title_text=\"Affordability Ratio\", secondary_y=True)\n",
        "    fig6.update_layout(title=\"Global Trends Over Time\")\n",
        "    fig6.update_xaxes(title_text=\"Year\")\n",
        "    fig6.update_yaxes(title_text=\"Price (USD)\", secondary_y=False)\n",
        "    try_save(fig6, \"06_time_trends\")\n",
        "    fig6.show()\n",
        "\n",
        "# =====================================================================\n",
        "# 4) CORRELATION HEATMAP (cleaned + centered scale)\n",
        "# =====================================================================\n",
        "corr_vars_all = [\"usd_price\",\"gdp_ppp_pc\",\"inflation_pct\",\"unemployment_pct\",\n",
        "                 \"urban_pct\",\"gini_index\",\"afford_ratio\"]\n",
        "\n",
        "available = [c for c in corr_vars_all if c in latest.columns]\n",
        "if len(available) >= 2:\n",
        "    # (Optional) drop almost-duplicate columns so colors aren't dominated\n",
        "    dedup = available.copy()\n",
        "    if set([\"usd_price\",\"afford_ratio\"]).issubset(dedup):\n",
        "        dedup.remove(\"afford_ratio\")  # it's ~perfectly correlated with usd_price by design\n",
        "\n",
        "    corr_df = latest[dedup].apply(pd.to_numeric, errors=\"coerce\")\n",
        "    corr_df = corr_df.replace([np.inf, -np.inf], np.nan).dropna(how=\"all\")\n",
        "    # remove zero-variance cols\n",
        "    keep = [c for c in corr_df.columns if corr_df[c].count() >= 3 and corr_df[c].std(skipna=True) > 0]\n",
        "    corr_df = corr_df[keep]\n",
        "\n",
        "    if len(keep) >= 2:\n",
        "        cm = corr_df.corr(numeric_only=True)\n",
        "        fig7 = px.imshow(\n",
        "            cm.round(2),\n",
        "            x=cm.columns, y=cm.index,\n",
        "            text_auto=\".2f\", aspect=\"auto\",\n",
        "            zmin=-1, zmax=1,  # removed zmid\n",
        "            color_continuous_scale=\"RdBu_r\",\n",
        "            title=\"Correlation Matrix (Latest Snapshot)\"\n",
        "        )\n",
        "        fig7.update_xaxes(side=\"top\")\n",
        "        try_save(fig7, \"07_correlation_heatmap\")\n",
        "        fig7.show()\n",
        "    else:\n",
        "        print(\"   ⚠️ Heatmap skipped: not enough variable variation after cleaning.\")\n",
        "else:\n",
        "    print(\"   ⚠️ Heatmap skipped: fewer than 2 eligible variables.\")\n",
        "\n"
      ],
      "metadata": {
        "colab": {
          "base_uri": "https://localhost:8080/",
          "height": 1000
        },
        "id": "CIwLaIsoqQci",
        "outputId": "edc99855-c555-4b22-a815-a4cdbdbb6e1d"
      },
      "id": "CIwLaIsoqQci",
      "execution_count": 40,
      "outputs": [
        {
          "output_type": "stream",
          "name": "stdout",
          "text": [
            "STEP 4: Visualizations (patched)\n",
            "   ✓ Saved figures/04_gdp_vs_price_scatter.html\n"
          ]
        },
        {
          "output_type": "display_data",
          "data": {
            "text/html": [
              "<html>\n",
              "<head><meta charset=\"utf-8\" /></head>\n",
              "<body>\n",
              "    <div>            <script src=\"https://cdnjs.cloudflare.com/ajax/libs/mathjax/2.7.5/MathJax.js?config=TeX-AMS-MML_SVG\"></script><script type=\"text/javascript\">if (window.MathJax && window.MathJax.Hub && window.MathJax.Hub.Config) {window.MathJax.Hub.Config({SVG: {font: \"STIX-Web\"}});}</script>                <script type=\"text/javascript\">window.PlotlyConfig = {MathJaxConfig: 'local'};</script>\n",
              "        <script charset=\"utf-8\" src=\"https://cdn.plot.ly/plotly-2.35.2.min.js\"></script>                <div id=\"5e0d4c11-f80c-44ff-aea2-fed51b88bd2e\" class=\"plotly-graph-div\" style=\"height:525px; width:100%;\"></div>            <script type=\"text/javascript\">                                    window.PLOTLYENV=window.PLOTLYENV || {};                                    if (document.getElementById(\"5e0d4c11-f80c-44ff-aea2-fed51b88bd2e\")) {                    Plotly.newPlot(                        \"5e0d4c11-f80c-44ff-aea2-fed51b88bd2e\",                        [{\"hovertemplate\":\"\\u003cb\\u003e%{hovertext}\\u003c\\u002fb\\u003e\\u003cbr\\u003e\\u003cbr\\u003eregion=None\\u003cbr\\u003eGDP per capita, PPP (current int'l $)=%{x}\\u003cbr\\u003ePrice (USD)=%{y}\\u003cbr\\u003epopulation=%{marker.size}\\u003cextra\\u003e\\u003c\\u002fextra\\u003e\",\"hovertext\":[\"United Arab Emirates\",\"Argentina\",\"Australia\",\"Austria\",\"Azerbaijan\",\"Belgium\",\"Bahrain\",\"Brazil\",\"Canada\",\"Switzerland\",\"Chile\",\"China\",\"Colombia\",\"Costa Rica\",\"Czech Republic\",\"Germany\",\"Denmark\",\"Egypt\",\"Spain\",\"Estonia\",\"Finland\",\"France\",\"Britain\",\"Greece\",\"Guatemala\",\"Hong Kong\",\"Honduras\",\"Croatia\",\"Hungary\",\"Indonesia\",\"India\",\"Ireland\",\"Israel\",\"Italy\",\"Jordan\",\"Japan\",\"South Korea\",\"Kuwait\",\"Lebanon\",\"Sri Lanka\",\"Lithuania\",\"Latvia\",\"Moldova\",\"Mexico\",\"Malaysia\",\"Nicaragua\",\"Netherlands\",\"Norway\",\"New Zealand\",\"Oman\",\"Pakistan\",\"Peru\",\"Philippines\",\"Poland\",\"Portugal\",\"Qatar\",\"Romania\",\"Russia\",\"Saudi Arabia\",\"Singapore\",\"Slovakia\",\"Slovenia\",\"Sweden\",\"Thailand\",\"Turkey\",\"Ukraine\",\"Uruguay\",\"United States\",\"Venezuela\",\"Vietnam\",\"South Africa\"],\"legendgroup\":\"None\",\"marker\":{\"color\":\"#636efa\",\"size\":[10074977.0,45407904.0,26014399.0,9041851.0,10141756.0,11680210.0,1524693.0,210306415.0,38935934.0,8777088.0,19553036.0,1412175000.0,51737944.0,5081765.0,10672118.0,83797985.0,5903037.0,112618250.0,47786102.0,1348840.0,5556106.0,68065015.0,67604000.0,10436882.0,17847877.0,7346100.0,10463872.0,3855641.0,9605074.0,278830529.0,1425423212.0,5212836.0,9557500.0,59013667.0,11256263.0,125124989.0,51672569.0,4589643.0,5744489.0,22181000.0,2831639.0,1879383.0,2528654.0,128613117.0,34695493.0,6730654.0,17700982.0,5457127.0,5117100.0,4730226.0,243700667.0,33475438.0,113964338.0,36821749.0,10434332.0,2657333.0,19048502.0,144236933.0,32175224.0,5637022.0,5431752.0,2112076.0,10486941.0,71735329.0,84979913.0,41048766.0,3390913.0,334017321.0,28213017.0,99680655.0,62378410.0],\"sizemode\":\"area\",\"sizeref\":3563558.03,\"symbol\":\"circle\"},\"mode\":\"markers\",\"name\":\"None\",\"orientation\":\"v\",\"showlegend\":true,\"x\":[73777.7443945251,29597.6938429263,65871.7715157769,70734.9425647902,22552.0886659805,68157.8347860761,61677.6538492695,19876.8533531447,63578.3201949554,91326.1317048182,30820.3526971179,23032.1766271143,20695.7426775731,25924.7403788729,51709.8373933963,67589.8399055414,77400.3348008883,17526.8017030166,50468.0966924829,47802.0073086125,61347.1578483192,56181.0058137403,58544.4695425536,38969.0221675373,13014.0149810816,68602.1491008475,6805.49358294554,41959.5332914918,44012.2677274292,14284.929293133,9207.12743040145,136104.445332458,53564.227891667,56247.4155916998,9927.2341002506,47395.8391565645,51231.4530663601,55043.0022722597,12292.8407305501,14193.6546217446,50498.3823963346,39960.8443388997,16452.9621236034,23379.7338940539,34366.2284812574,7796.69362034144,77152.2237613361,123150.172908009,53647.3428142934,42616.3348955868,5920.27430654107,16669.1561486769,10131.346369794,46077.3855556036,44557.281053572,122920.498759404,42217.9204497701,40938.98828125,71968.074955888,143094.949896959,41096.018502098,51079.1780691932,66375.6164555727,22243.0747727026,39101.0748100515,14770.0712890625,33000.918699951,77860.9112908848,17349.1759979718,13905.1536875216,14759.4350715619],\"xaxis\":\"x\",\"y\":[4.900559480540696,4.569569763389226,4.625679999999994,4.45765230312037,2.7675548358604445,4.713839217092805,4.244031830238727,4.247229563685259,5.2515223209091255,6.711755898600857,3.662076505086517,3.5569519885584713,3.480710577169332,3.9079493588751,3.971571906354515,4.6933442639750105,4.404740602072981,2.42808128793877,4.6933442639750105,3.484142030025117,5.379925193421137,4.81631398268178,4.440005775617279,4.0989906235589615,3.3644327695751755,2.675176275008121,3.61568149502336,3.684271571751189,2.6475008170624488,2.3368385912201637,2.3889542759154634,5.123738279448702,4.945526480385169,5.226213045037675,3.238752376258537,2.828854314002829,3.5022269595340516,4.229017566688354,85.96746462108186,3.7222222222222223,3.125480350463708,3.074242967669221,3.109130479842471,3.429271279853031,2.4494382022471908,3.872945110058512,4.611364451503832,6.264113198587543,4.427204999999997,3.688311688311688,3.156708004509583,3.5706487534839515,2.7548209366391183,3.588292871817487,4.0989906235589615,3.5697123635614747,2.2813293928552913,1.7437917783446895,4.527296937416778,4.2403334770734515,3.996515857969987,3.279192498847169,5.589413454796844,3.4960737453055653,2.6757756902931966,2.3352229461037313,6.0844667143879745,5.77,1.7626736233519003,2.946577272921382,2.342064714946071],\"yaxis\":\"y\",\"type\":\"scatter\"},{\"hovertemplate\":\"\\u003cb\\u003eOLS trendline\\u003c\\u002fb\\u003e\\u003cbr\\u003eusd_price = -2.22887e-05 * gdp_ppp_pc + 6.01338\\u003cbr\\u003eR\\u003csup\\u003e2\\u003c\\u002fsup\\u003e=0.004746\\u003cbr\\u003e\\u003cbr\\u003eregion=None\\u003cbr\\u003eGDP per capita, PPP (current int'l $)=%{x}\\u003cbr\\u003ePrice (USD)=%{y} \\u003cb\\u003e(trend)\\u003c\\u002fb\\u003e\\u003cextra\\u003e\\u003c\\u002fextra\\u003e\",\"legendgroup\":\"None\",\"marker\":{\"color\":\"#636efa\",\"symbol\":\"circle\"},\"mode\":\"lines\",\"name\":\"None\",\"showlegend\":false,\"x\":[5920.27430654107,6805.49358294554,7796.69362034144,9207.12743040145,9927.2341002506,10131.346369794,12292.8407305501,13014.0149810816,13905.1536875216,14193.6546217446,14284.929293133,14759.4350715619,14770.0712890625,16452.9621236034,16669.1561486769,17349.1759979718,17526.8017030166,19876.8533531447,20695.7426775731,22243.0747727026,22552.0886659805,23032.1766271143,23379.7338940539,25924.7403788729,29597.6938429263,30820.3526971179,33000.918699951,34366.2284812574,38969.0221675373,39101.0748100515,39960.8443388997,40938.98828125,41096.018502098,41959.5332914918,42217.9204497701,42616.3348955868,44012.2677274292,44557.281053572,46077.3855556036,47395.8391565645,47802.0073086125,50468.0966924829,50498.3823963346,51079.1780691932,51231.4530663601,51709.8373933963,53564.227891667,53647.3428142934,55043.0022722597,56181.0058137403,56247.4155916998,58544.4695425536,61347.1578483192,61677.6538492695,63578.3201949554,65871.7715157769,66375.6164555727,67589.8399055414,68157.8347860761,68602.1491008475,70734.9425647902,71968.074955888,73777.7443945251,77152.2237613361,77400.3348008883,77860.9112908848,91326.1317048182,122920.498759404,123150.172908009,136104.445332458,143094.949896959],\"xaxis\":\"x\",\"y\":[5.881423819145137,5.861693406802775,5.8396008180252,5.808164041402887,5.792113779162419,5.787564376150564,5.739387414633605,5.723313357376881,5.70345100846406,5.697020689394985,5.694986293002012,5.68441016241292,5.684173094646047,5.646663597307104,5.641844907323329,5.62668812935293,5.622729078192893,5.570349414397941,5.552097412363647,5.517609346998103,5.510721820148648,5.500021269803373,5.492274660152987,5.435549700927718,5.35368423742987,5.326432725866289,5.277830681692123,5.247399662307127,5.144809242308603,5.1418659567779414,5.122702786955799,5.1009012019393225,5.097401197940169,5.0781545510216,5.072395429736409,5.063515278220679,5.032401709968571,5.020254055773153,4.986372858844877,4.956986204154198,4.9479332323834155,4.888509489264064,4.887834459425695,4.874889262210035,4.871495246101688,4.860832667594716,4.819500660768961,4.817648134802871,4.786540659706937,4.761176007446222,4.759695817918462,4.708497405467387,4.646029046029396,4.638662710308899,4.5962992736721,4.545181159264628,4.533951096065866,4.506887598938967,4.49422771511129,4.48432451386644,4.4367872588536414,4.409302305466831,4.36896707420898,4.293754218905597,4.288224139243368,4.277958474785925,3.9778358293247904,3.2736375517919143,3.2685184069911326,2.9797841426766163,2.8239746825629726],\"yaxis\":\"y\",\"type\":\"scatter\"}],                        {\"template\":{\"data\":{\"histogram2dcontour\":[{\"type\":\"histogram2dcontour\",\"colorbar\":{\"outlinewidth\":0,\"ticks\":\"\"},\"colorscale\":[[0.0,\"#0d0887\"],[0.1111111111111111,\"#46039f\"],[0.2222222222222222,\"#7201a8\"],[0.3333333333333333,\"#9c179e\"],[0.4444444444444444,\"#bd3786\"],[0.5555555555555556,\"#d8576b\"],[0.6666666666666666,\"#ed7953\"],[0.7777777777777778,\"#fb9f3a\"],[0.8888888888888888,\"#fdca26\"],[1.0,\"#f0f921\"]]}],\"choropleth\":[{\"type\":\"choropleth\",\"colorbar\":{\"outlinewidth\":0,\"ticks\":\"\"}}],\"histogram2d\":[{\"type\":\"histogram2d\",\"colorbar\":{\"outlinewidth\":0,\"ticks\":\"\"},\"colorscale\":[[0.0,\"#0d0887\"],[0.1111111111111111,\"#46039f\"],[0.2222222222222222,\"#7201a8\"],[0.3333333333333333,\"#9c179e\"],[0.4444444444444444,\"#bd3786\"],[0.5555555555555556,\"#d8576b\"],[0.6666666666666666,\"#ed7953\"],[0.7777777777777778,\"#fb9f3a\"],[0.8888888888888888,\"#fdca26\"],[1.0,\"#f0f921\"]]}],\"heatmap\":[{\"type\":\"heatmap\",\"colorbar\":{\"outlinewidth\":0,\"ticks\":\"\"},\"colorscale\":[[0.0,\"#0d0887\"],[0.1111111111111111,\"#46039f\"],[0.2222222222222222,\"#7201a8\"],[0.3333333333333333,\"#9c179e\"],[0.4444444444444444,\"#bd3786\"],[0.5555555555555556,\"#d8576b\"],[0.6666666666666666,\"#ed7953\"],[0.7777777777777778,\"#fb9f3a\"],[0.8888888888888888,\"#fdca26\"],[1.0,\"#f0f921\"]]}],\"heatmapgl\":[{\"type\":\"heatmapgl\",\"colorbar\":{\"outlinewidth\":0,\"ticks\":\"\"},\"colorscale\":[[0.0,\"#0d0887\"],[0.1111111111111111,\"#46039f\"],[0.2222222222222222,\"#7201a8\"],[0.3333333333333333,\"#9c179e\"],[0.4444444444444444,\"#bd3786\"],[0.5555555555555556,\"#d8576b\"],[0.6666666666666666,\"#ed7953\"],[0.7777777777777778,\"#fb9f3a\"],[0.8888888888888888,\"#fdca26\"],[1.0,\"#f0f921\"]]}],\"contourcarpet\":[{\"type\":\"contourcarpet\",\"colorbar\":{\"outlinewidth\":0,\"ticks\":\"\"}}],\"contour\":[{\"type\":\"contour\",\"colorbar\":{\"outlinewidth\":0,\"ticks\":\"\"},\"colorscale\":[[0.0,\"#0d0887\"],[0.1111111111111111,\"#46039f\"],[0.2222222222222222,\"#7201a8\"],[0.3333333333333333,\"#9c179e\"],[0.4444444444444444,\"#bd3786\"],[0.5555555555555556,\"#d8576b\"],[0.6666666666666666,\"#ed7953\"],[0.7777777777777778,\"#fb9f3a\"],[0.8888888888888888,\"#fdca26\"],[1.0,\"#f0f921\"]]}],\"surface\":[{\"type\":\"surface\",\"colorbar\":{\"outlinewidth\":0,\"ticks\":\"\"},\"colorscale\":[[0.0,\"#0d0887\"],[0.1111111111111111,\"#46039f\"],[0.2222222222222222,\"#7201a8\"],[0.3333333333333333,\"#9c179e\"],[0.4444444444444444,\"#bd3786\"],[0.5555555555555556,\"#d8576b\"],[0.6666666666666666,\"#ed7953\"],[0.7777777777777778,\"#fb9f3a\"],[0.8888888888888888,\"#fdca26\"],[1.0,\"#f0f921\"]]}],\"mesh3d\":[{\"type\":\"mesh3d\",\"colorbar\":{\"outlinewidth\":0,\"ticks\":\"\"}}],\"scatter\":[{\"fillpattern\":{\"fillmode\":\"overlay\",\"size\":10,\"solidity\":0.2},\"type\":\"scatter\"}],\"parcoords\":[{\"type\":\"parcoords\",\"line\":{\"colorbar\":{\"outlinewidth\":0,\"ticks\":\"\"}}}],\"scatterpolargl\":[{\"type\":\"scatterpolargl\",\"marker\":{\"colorbar\":{\"outlinewidth\":0,\"ticks\":\"\"}}}],\"bar\":[{\"error_x\":{\"color\":\"#2a3f5f\"},\"error_y\":{\"color\":\"#2a3f5f\"},\"marker\":{\"line\":{\"color\":\"white\",\"width\":0.5},\"pattern\":{\"fillmode\":\"overlay\",\"size\":10,\"solidity\":0.2}},\"type\":\"bar\"}],\"scattergeo\":[{\"type\":\"scattergeo\",\"marker\":{\"colorbar\":{\"outlinewidth\":0,\"ticks\":\"\"}}}],\"scatterpolar\":[{\"type\":\"scatterpolar\",\"marker\":{\"colorbar\":{\"outlinewidth\":0,\"ticks\":\"\"}}}],\"histogram\":[{\"marker\":{\"pattern\":{\"fillmode\":\"overlay\",\"size\":10,\"solidity\":0.2}},\"type\":\"histogram\"}],\"scattergl\":[{\"type\":\"scattergl\",\"marker\":{\"colorbar\":{\"outlinewidth\":0,\"ticks\":\"\"}}}],\"scatter3d\":[{\"type\":\"scatter3d\",\"line\":{\"colorbar\":{\"outlinewidth\":0,\"ticks\":\"\"}},\"marker\":{\"colorbar\":{\"outlinewidth\":0,\"ticks\":\"\"}}}],\"scattermapbox\":[{\"type\":\"scattermapbox\",\"marker\":{\"colorbar\":{\"outlinewidth\":0,\"ticks\":\"\"}}}],\"scatterternary\":[{\"type\":\"scatterternary\",\"marker\":{\"colorbar\":{\"outlinewidth\":0,\"ticks\":\"\"}}}],\"scattercarpet\":[{\"type\":\"scattercarpet\",\"marker\":{\"colorbar\":{\"outlinewidth\":0,\"ticks\":\"\"}}}],\"carpet\":[{\"aaxis\":{\"endlinecolor\":\"#2a3f5f\",\"gridcolor\":\"#C8D4E3\",\"linecolor\":\"#C8D4E3\",\"minorgridcolor\":\"#C8D4E3\",\"startlinecolor\":\"#2a3f5f\"},\"baxis\":{\"endlinecolor\":\"#2a3f5f\",\"gridcolor\":\"#C8D4E3\",\"linecolor\":\"#C8D4E3\",\"minorgridcolor\":\"#C8D4E3\",\"startlinecolor\":\"#2a3f5f\"},\"type\":\"carpet\"}],\"table\":[{\"cells\":{\"fill\":{\"color\":\"#EBF0F8\"},\"line\":{\"color\":\"white\"}},\"header\":{\"fill\":{\"color\":\"#C8D4E3\"},\"line\":{\"color\":\"white\"}},\"type\":\"table\"}],\"barpolar\":[{\"marker\":{\"line\":{\"color\":\"white\",\"width\":0.5},\"pattern\":{\"fillmode\":\"overlay\",\"size\":10,\"solidity\":0.2}},\"type\":\"barpolar\"}],\"pie\":[{\"automargin\":true,\"type\":\"pie\"}]},\"layout\":{\"autotypenumbers\":\"strict\",\"colorway\":[\"#636efa\",\"#EF553B\",\"#00cc96\",\"#ab63fa\",\"#FFA15A\",\"#19d3f3\",\"#FF6692\",\"#B6E880\",\"#FF97FF\",\"#FECB52\"],\"font\":{\"color\":\"#2a3f5f\"},\"hovermode\":\"closest\",\"hoverlabel\":{\"align\":\"left\"},\"paper_bgcolor\":\"white\",\"plot_bgcolor\":\"white\",\"polar\":{\"bgcolor\":\"white\",\"angularaxis\":{\"gridcolor\":\"#EBF0F8\",\"linecolor\":\"#EBF0F8\",\"ticks\":\"\"},\"radialaxis\":{\"gridcolor\":\"#EBF0F8\",\"linecolor\":\"#EBF0F8\",\"ticks\":\"\"}},\"ternary\":{\"bgcolor\":\"white\",\"aaxis\":{\"gridcolor\":\"#DFE8F3\",\"linecolor\":\"#A2B1C6\",\"ticks\":\"\"},\"baxis\":{\"gridcolor\":\"#DFE8F3\",\"linecolor\":\"#A2B1C6\",\"ticks\":\"\"},\"caxis\":{\"gridcolor\":\"#DFE8F3\",\"linecolor\":\"#A2B1C6\",\"ticks\":\"\"}},\"coloraxis\":{\"colorbar\":{\"outlinewidth\":0,\"ticks\":\"\"}},\"colorscale\":{\"sequential\":[[0.0,\"#0d0887\"],[0.1111111111111111,\"#46039f\"],[0.2222222222222222,\"#7201a8\"],[0.3333333333333333,\"#9c179e\"],[0.4444444444444444,\"#bd3786\"],[0.5555555555555556,\"#d8576b\"],[0.6666666666666666,\"#ed7953\"],[0.7777777777777778,\"#fb9f3a\"],[0.8888888888888888,\"#fdca26\"],[1.0,\"#f0f921\"]],\"sequentialminus\":[[0.0,\"#0d0887\"],[0.1111111111111111,\"#46039f\"],[0.2222222222222222,\"#7201a8\"],[0.3333333333333333,\"#9c179e\"],[0.4444444444444444,\"#bd3786\"],[0.5555555555555556,\"#d8576b\"],[0.6666666666666666,\"#ed7953\"],[0.7777777777777778,\"#fb9f3a\"],[0.8888888888888888,\"#fdca26\"],[1.0,\"#f0f921\"]],\"diverging\":[[0,\"#8e0152\"],[0.1,\"#c51b7d\"],[0.2,\"#de77ae\"],[0.3,\"#f1b6da\"],[0.4,\"#fde0ef\"],[0.5,\"#f7f7f7\"],[0.6,\"#e6f5d0\"],[0.7,\"#b8e186\"],[0.8,\"#7fbc41\"],[0.9,\"#4d9221\"],[1,\"#276419\"]]},\"xaxis\":{\"gridcolor\":\"#EBF0F8\",\"linecolor\":\"#EBF0F8\",\"ticks\":\"\",\"title\":{\"standoff\":15},\"zerolinecolor\":\"#EBF0F8\",\"automargin\":true,\"zerolinewidth\":2},\"yaxis\":{\"gridcolor\":\"#EBF0F8\",\"linecolor\":\"#EBF0F8\",\"ticks\":\"\",\"title\":{\"standoff\":15},\"zerolinecolor\":\"#EBF0F8\",\"automargin\":true,\"zerolinewidth\":2},\"scene\":{\"xaxis\":{\"backgroundcolor\":\"white\",\"gridcolor\":\"#DFE8F3\",\"linecolor\":\"#EBF0F8\",\"showbackground\":true,\"ticks\":\"\",\"zerolinecolor\":\"#EBF0F8\",\"gridwidth\":2},\"yaxis\":{\"backgroundcolor\":\"white\",\"gridcolor\":\"#DFE8F3\",\"linecolor\":\"#EBF0F8\",\"showbackground\":true,\"ticks\":\"\",\"zerolinecolor\":\"#EBF0F8\",\"gridwidth\":2},\"zaxis\":{\"backgroundcolor\":\"white\",\"gridcolor\":\"#DFE8F3\",\"linecolor\":\"#EBF0F8\",\"showbackground\":true,\"ticks\":\"\",\"zerolinecolor\":\"#EBF0F8\",\"gridwidth\":2}},\"shapedefaults\":{\"line\":{\"color\":\"#2a3f5f\"}},\"annotationdefaults\":{\"arrowcolor\":\"#2a3f5f\",\"arrowhead\":0,\"arrowwidth\":1},\"geo\":{\"bgcolor\":\"white\",\"landcolor\":\"white\",\"subunitcolor\":\"#C8D4E3\",\"showland\":true,\"showlakes\":true,\"lakecolor\":\"white\"},\"title\":{\"x\":0.05},\"mapbox\":{\"style\":\"light\"}}},\"xaxis\":{\"anchor\":\"y\",\"domain\":[0.0,1.0],\"title\":{\"text\":\"GDP per capita, PPP (current int'l $)\"}},\"yaxis\":{\"anchor\":\"x\",\"domain\":[0.0,1.0],\"title\":{\"text\":\"Price (USD)\"},\"range\":[0,10]},\"legend\":{\"title\":{\"text\":\"region\"},\"tracegroupgap\":0,\"itemsizing\":\"constant\"},\"title\":{\"text\":\"GDP per Capita (PPP) vs Big Mac Price (Latest)\"}},                        {\"responsive\": true}                    ).then(function(){\n",
              "                            \n",
              "var gd = document.getElementById('5e0d4c11-f80c-44ff-aea2-fed51b88bd2e');\n",
              "var x = new MutationObserver(function (mutations, observer) {{\n",
              "        var display = window.getComputedStyle(gd).display;\n",
              "        if (!display || display === 'none') {{\n",
              "            console.log([gd, 'removed!']);\n",
              "            Plotly.purge(gd);\n",
              "            observer.disconnect();\n",
              "        }}\n",
              "}});\n",
              "\n",
              "// Listen for the removal of the full notebook cells\n",
              "var notebookContainer = gd.closest('#notebook-container');\n",
              "if (notebookContainer) {{\n",
              "    x.observe(notebookContainer, {childList: true});\n",
              "}}\n",
              "\n",
              "// Listen for the clearing of the current output cell\n",
              "var outputEl = gd.closest('.output');\n",
              "if (outputEl) {{\n",
              "    x.observe(outputEl, {childList: true});\n",
              "}}\n",
              "\n",
              "                        })                };                            </script>        </div>\n",
              "</body>\n",
              "</html>"
            ]
          },
          "metadata": {}
        },
        {
          "output_type": "stream",
          "name": "stdout",
          "text": [
            "   ✓ Saved figures/05_world_map_discrete.html\n"
          ]
        },
        {
          "output_type": "display_data",
          "data": {
            "text/html": [
              "<html>\n",
              "<head><meta charset=\"utf-8\" /></head>\n",
              "<body>\n",
              "    <div>            <script src=\"https://cdnjs.cloudflare.com/ajax/libs/mathjax/2.7.5/MathJax.js?config=TeX-AMS-MML_SVG\"></script><script type=\"text/javascript\">if (window.MathJax && window.MathJax.Hub && window.MathJax.Hub.Config) {window.MathJax.Hub.Config({SVG: {font: \"STIX-Web\"}});}</script>                <script type=\"text/javascript\">window.PlotlyConfig = {MathJaxConfig: 'local'};</script>\n",
              "        <script charset=\"utf-8\" src=\"https://cdn.plot.ly/plotly-2.35.2.min.js\"></script>                <div id=\"80813b6c-525b-4430-9d39-8b9bf6721d9a\" class=\"plotly-graph-div\" style=\"height:525px; width:100%;\"></div>            <script type=\"text/javascript\">                                    window.PLOTLYENV=window.PLOTLYENV || {};                                    if (document.getElementById(\"80813b6c-525b-4430-9d39-8b9bf6721d9a\")) {                    Plotly.newPlot(                        \"80813b6c-525b-4430-9d39-8b9bf6721d9a\",                        [{\"colorscale\":[[0.0,\"rgb(48, 18, 59)\"],[1.0,\"rgb(48, 18, 59)\"]],\"geo\":\"geo\",\"hovertemplate\":\"\\u003cb\\u003e%{hovertext}\\u003c\\u002fb\\u003e\\u003cbr\\u003eRange: %{customdata[0]}\\u003cbr\\u003eRatio: %{customdata[1]:.2f}\\u003cextra\\u003e\\u003c\\u002fextra\\u003e\",\"hovertext\":[\"Romania\",\"Russia\",\"Venezuela\"],\"locations\":[\"ROU\",\"RUS\",\"VEN\"],\"name\":\"[0.2, 0.4)\",\"showlegend\":true,\"showscale\":false,\"z\":[1,1,1],\"type\":\"choropleth\",\"customdata\":[[\"[0.8, 1.0)\",0.849317067684696],[\"nan\",0.7919531652321016],[\"[0.8, 1.0)\",0.8016776429809349],[\"nan\",0.7725567249775339],[\"nan\",0.47964555214219146],[\"[0.8, 1.0)\",0.816956536757852],[\"nan\",0.7355341126930204],[\"nan\",0.7360883125970987],[\"[0.8, 1.0)\",0.9101425166220323],[\"[1.0, 1.2)\",1.1632159269672198],[\"nan\",0.6346753041744397],[\"nan\",0.6164561505300644],[\"nan\",0.6032427343447716],[\"nan\",0.6772875838605027],[\"nan\",0.6883140218985295],[\"[0.8, 1.0)\",0.8134045518154265],[\"nan\",0.7633865861478304],[\"nan\",0.42081131506737784],[\"[0.8, 1.0)\",0.8134045518154265],[\"nan\",0.6038374402123253],[\"[0.8, 1.0)\",0.8258364991139155],[\"[0.8, 1.0)\",0.9323960473866789],[\"[0.8, 1.0)\",0.8347164614699792],[\"nan\",0.7694984013201525],[\"nan\",0.7103969884850887],[\"nan\",0.5830906013128554],[\"nan\",0.46363540294768135],[\"nan\",0.6266345745274454],[\"nan\",0.6385219361787157],[\"nan\",0.45883896309574507],[\"nan\",0.40499802274179614],[\"nan\",0.4140302037981739],[\"[0.8, 1.0)\",0.8879962356063609],[\"[0.8, 1.0)\",0.8571103085589549],[\"[0.8, 1.0)\",0.905756160318488],[\"nan\",0.5613089040309424],[\"nan\",0.4902693785100224],[\"nan\",0.606971743420113],[\"nan\",0.7329319872943422],[\"[14.8, 15.0)\",14.89904066223256],[\"nan\",0.645099171962257],[\"nan\",0.5416777037198801],[\"nan\",0.5327977413638165],[\"nan\",0.5388441039588339],[\"nan\",0.5943277781374404],[\"nan\",0.4245126866979534],[\"nan\",0.6712209896115273],[\"nan\",0.7991966120457248],[\"[1.0, 1.2)\",1.0856348697725378],[\"nan\",0.7672798960138644],[\"nan\",0.6392221296900673],[\"nan\",0.547089775478264],[\"nan\",0.6188299399452256],[\"nan\",0.47743863719915397],[\"nan\",0.6218878460688886],[\"nan\",0.7103969884850887],[\"nan\",0.6186676539967895],[\"[0.2, 0.4)\",0.39537771106677494],[\"[0.2, 0.4)\",0.3459904322112479],[\"nan\",0.7846268522386097],[\"nan\",0.7348931502726953],[\"nan\",0.6926370637729614],[\"nan\",0.568317590788071],[\"[0.8, 1.0)\",0.9687025051640978],[\"nan\",0.6059053284758346],[\"nan\",0.463739287745788],[\"nan\",0.43461562811157634],[\"nan\",0.4047180149226571],[\"[1.0, 1.2)\",1.0545002971209663],[\"[1.0, 1.2)\",1.0],[\"[0.2, 0.4)\",0.3054893627992895],[\"nan\",0.5106719710435671],[\"nan\",0.40590376342219603]]},{\"colorscale\":[[0.0,\"rgb(58, 47, 123)\"],[1.0,\"rgb(58, 47, 123)\"]],\"geo\":\"geo\",\"hovertemplate\":\"\\u003cb\\u003e%{hovertext}\\u003c\\u002fb\\u003e\\u003cbr\\u003eRange: %{customdata[0]}\\u003cbr\\u003eRatio: %{customdata[1]:.2f}\\u003cextra\\u003e\\u003c\\u002fextra\\u003e\",\"hovertext\":[\"United Arab Emirates\",\"Australia\",\"Belgium\",\"Canada\",\"Germany\",\"Spain\",\"Euro area\",\"Finland\",\"France\",\"Ireland\",\"Israel\",\"Italy\",\"Sweden\"],\"locations\":[\"ARE\",\"AUS\",\"BEL\",\"CAN\",\"DEU\",\"ESP\",\"EUZ\",\"FIN\",\"FRA\",\"IRL\",\"ISR\",\"ITA\",\"SWE\"],\"name\":\"[0.8, 1.0)\",\"showlegend\":true,\"showscale\":false,\"z\":[1,1,1,1,1,1,1,1,1,1,1,1,1],\"type\":\"choropleth\",\"customdata\":[[\"[0.8, 1.0)\",0.849317067684696],[\"nan\",0.7919531652321016],[\"[0.8, 1.0)\",0.8016776429809349],[\"nan\",0.7725567249775339],[\"nan\",0.47964555214219146],[\"[0.8, 1.0)\",0.816956536757852],[\"nan\",0.7355341126930204],[\"nan\",0.7360883125970987],[\"[0.8, 1.0)\",0.9101425166220323],[\"[1.0, 1.2)\",1.1632159269672198],[\"nan\",0.6346753041744397],[\"nan\",0.6164561505300644],[\"nan\",0.6032427343447716],[\"nan\",0.6772875838605027],[\"nan\",0.6883140218985295],[\"[0.8, 1.0)\",0.8134045518154265],[\"nan\",0.7633865861478304],[\"nan\",0.42081131506737784],[\"[0.8, 1.0)\",0.8134045518154265],[\"nan\",0.6038374402123253],[\"[0.8, 1.0)\",0.8258364991139155],[\"[0.8, 1.0)\",0.9323960473866789],[\"[0.8, 1.0)\",0.8347164614699792],[\"nan\",0.7694984013201525],[\"nan\",0.7103969884850887],[\"nan\",0.5830906013128554],[\"nan\",0.46363540294768135],[\"nan\",0.6266345745274454],[\"nan\",0.6385219361787157],[\"nan\",0.45883896309574507],[\"nan\",0.40499802274179614],[\"nan\",0.4140302037981739],[\"[0.8, 1.0)\",0.8879962356063609],[\"[0.8, 1.0)\",0.8571103085589549],[\"[0.8, 1.0)\",0.905756160318488],[\"nan\",0.5613089040309424],[\"nan\",0.4902693785100224],[\"nan\",0.606971743420113],[\"nan\",0.7329319872943422],[\"[14.8, 15.0)\",14.89904066223256],[\"nan\",0.645099171962257],[\"nan\",0.5416777037198801],[\"nan\",0.5327977413638165],[\"nan\",0.5388441039588339],[\"nan\",0.5943277781374404],[\"nan\",0.4245126866979534],[\"nan\",0.6712209896115273],[\"nan\",0.7991966120457248],[\"[1.0, 1.2)\",1.0856348697725378],[\"nan\",0.7672798960138644],[\"nan\",0.6392221296900673],[\"nan\",0.547089775478264],[\"nan\",0.6188299399452256],[\"nan\",0.47743863719915397],[\"nan\",0.6218878460688886],[\"nan\",0.7103969884850887],[\"nan\",0.6186676539967895],[\"[0.2, 0.4)\",0.39537771106677494],[\"[0.2, 0.4)\",0.3459904322112479],[\"nan\",0.7846268522386097],[\"nan\",0.7348931502726953],[\"nan\",0.6926370637729614],[\"nan\",0.568317590788071],[\"[0.8, 1.0)\",0.9687025051640978],[\"nan\",0.6059053284758346],[\"nan\",0.463739287745788],[\"nan\",0.43461562811157634],[\"nan\",0.4047180149226571],[\"[1.0, 1.2)\",1.0545002971209663],[\"[1.0, 1.2)\",1.0],[\"[0.2, 0.4)\",0.3054893627992895],[\"nan\",0.5106719710435671],[\"nan\",0.40590376342219603]]},{\"colorscale\":[[0.0,\"rgb(61, 57, 145)\"],[1.0,\"rgb(61, 57, 145)\"]],\"geo\":\"geo\",\"hovertemplate\":\"\\u003cb\\u003e%{hovertext}\\u003c\\u002fb\\u003e\\u003cbr\\u003eRange: %{customdata[0]}\\u003cbr\\u003eRatio: %{customdata[1]:.2f}\\u003cextra\\u003e\\u003c\\u002fextra\\u003e\",\"hovertext\":[\"Switzerland\",\"Norway\",\"Uruguay\",\"United States\"],\"locations\":[\"CHE\",\"NOR\",\"URY\",\"USA\"],\"name\":\"[1.0, 1.2)\",\"showlegend\":true,\"showscale\":false,\"z\":[1,1,1,1],\"type\":\"choropleth\",\"customdata\":[[\"[0.8, 1.0)\",0.849317067684696],[\"nan\",0.7919531652321016],[\"[0.8, 1.0)\",0.8016776429809349],[\"nan\",0.7725567249775339],[\"nan\",0.47964555214219146],[\"[0.8, 1.0)\",0.816956536757852],[\"nan\",0.7355341126930204],[\"nan\",0.7360883125970987],[\"[0.8, 1.0)\",0.9101425166220323],[\"[1.0, 1.2)\",1.1632159269672198],[\"nan\",0.6346753041744397],[\"nan\",0.6164561505300644],[\"nan\",0.6032427343447716],[\"nan\",0.6772875838605027],[\"nan\",0.6883140218985295],[\"[0.8, 1.0)\",0.8134045518154265],[\"nan\",0.7633865861478304],[\"nan\",0.42081131506737784],[\"[0.8, 1.0)\",0.8134045518154265],[\"nan\",0.6038374402123253],[\"[0.8, 1.0)\",0.8258364991139155],[\"[0.8, 1.0)\",0.9323960473866789],[\"[0.8, 1.0)\",0.8347164614699792],[\"nan\",0.7694984013201525],[\"nan\",0.7103969884850887],[\"nan\",0.5830906013128554],[\"nan\",0.46363540294768135],[\"nan\",0.6266345745274454],[\"nan\",0.6385219361787157],[\"nan\",0.45883896309574507],[\"nan\",0.40499802274179614],[\"nan\",0.4140302037981739],[\"[0.8, 1.0)\",0.8879962356063609],[\"[0.8, 1.0)\",0.8571103085589549],[\"[0.8, 1.0)\",0.905756160318488],[\"nan\",0.5613089040309424],[\"nan\",0.4902693785100224],[\"nan\",0.606971743420113],[\"nan\",0.7329319872943422],[\"[14.8, 15.0)\",14.89904066223256],[\"nan\",0.645099171962257],[\"nan\",0.5416777037198801],[\"nan\",0.5327977413638165],[\"nan\",0.5388441039588339],[\"nan\",0.5943277781374404],[\"nan\",0.4245126866979534],[\"nan\",0.6712209896115273],[\"nan\",0.7991966120457248],[\"[1.0, 1.2)\",1.0856348697725378],[\"nan\",0.7672798960138644],[\"nan\",0.6392221296900673],[\"nan\",0.547089775478264],[\"nan\",0.6188299399452256],[\"nan\",0.47743863719915397],[\"nan\",0.6218878460688886],[\"nan\",0.7103969884850887],[\"nan\",0.6186676539967895],[\"[0.2, 0.4)\",0.39537771106677494],[\"[0.2, 0.4)\",0.3459904322112479],[\"nan\",0.7846268522386097],[\"nan\",0.7348931502726953],[\"nan\",0.6926370637729614],[\"nan\",0.568317590788071],[\"[0.8, 1.0)\",0.9687025051640978],[\"nan\",0.6059053284758346],[\"nan\",0.463739287745788],[\"nan\",0.43461562811157634],[\"nan\",0.4047180149226571],[\"[1.0, 1.2)\",1.0545002971209663],[\"[1.0, 1.2)\",1.0],[\"[0.2, 0.4)\",0.3054893627992895],[\"nan\",0.5106719710435671],[\"nan\",0.40590376342219603]]},{\"colorscale\":[[0.0,\"rgb(122, 4, 2)\"],[1.0,\"rgb(122, 4, 2)\"]],\"geo\":\"geo\",\"hovertemplate\":\"\\u003cb\\u003e%{hovertext}\\u003c\\u002fb\\u003e\\u003cbr\\u003eRange: %{customdata[0]}\\u003cbr\\u003eRatio: %{customdata[1]:.2f}\\u003cextra\\u003e\\u003c\\u002fextra\\u003e\",\"hovertext\":[\"Lebanon\"],\"locations\":[\"LBN\"],\"name\":\"[14.8, 15.0)\",\"showlegend\":true,\"showscale\":false,\"z\":[1],\"type\":\"choropleth\",\"customdata\":[[\"[0.8, 1.0)\",0.849317067684696],[\"nan\",0.7919531652321016],[\"[0.8, 1.0)\",0.8016776429809349],[\"nan\",0.7725567249775339],[\"nan\",0.47964555214219146],[\"[0.8, 1.0)\",0.816956536757852],[\"nan\",0.7355341126930204],[\"nan\",0.7360883125970987],[\"[0.8, 1.0)\",0.9101425166220323],[\"[1.0, 1.2)\",1.1632159269672198],[\"nan\",0.6346753041744397],[\"nan\",0.6164561505300644],[\"nan\",0.6032427343447716],[\"nan\",0.6772875838605027],[\"nan\",0.6883140218985295],[\"[0.8, 1.0)\",0.8134045518154265],[\"nan\",0.7633865861478304],[\"nan\",0.42081131506737784],[\"[0.8, 1.0)\",0.8134045518154265],[\"nan\",0.6038374402123253],[\"[0.8, 1.0)\",0.8258364991139155],[\"[0.8, 1.0)\",0.9323960473866789],[\"[0.8, 1.0)\",0.8347164614699792],[\"nan\",0.7694984013201525],[\"nan\",0.7103969884850887],[\"nan\",0.5830906013128554],[\"nan\",0.46363540294768135],[\"nan\",0.6266345745274454],[\"nan\",0.6385219361787157],[\"nan\",0.45883896309574507],[\"nan\",0.40499802274179614],[\"nan\",0.4140302037981739],[\"[0.8, 1.0)\",0.8879962356063609],[\"[0.8, 1.0)\",0.8571103085589549],[\"[0.8, 1.0)\",0.905756160318488],[\"nan\",0.5613089040309424],[\"nan\",0.4902693785100224],[\"nan\",0.606971743420113],[\"nan\",0.7329319872943422],[\"[14.8, 15.0)\",14.89904066223256],[\"nan\",0.645099171962257],[\"nan\",0.5416777037198801],[\"nan\",0.5327977413638165],[\"nan\",0.5388441039588339],[\"nan\",0.5943277781374404],[\"nan\",0.4245126866979534],[\"nan\",0.6712209896115273],[\"nan\",0.7991966120457248],[\"[1.0, 1.2)\",1.0856348697725378],[\"nan\",0.7672798960138644],[\"nan\",0.6392221296900673],[\"nan\",0.547089775478264],[\"nan\",0.6188299399452256],[\"nan\",0.47743863719915397],[\"nan\",0.6218878460688886],[\"nan\",0.7103969884850887],[\"nan\",0.6186676539967895],[\"[0.2, 0.4)\",0.39537771106677494],[\"[0.2, 0.4)\",0.3459904322112479],[\"nan\",0.7846268522386097],[\"nan\",0.7348931502726953],[\"nan\",0.6926370637729614],[\"nan\",0.568317590788071],[\"[0.8, 1.0)\",0.9687025051640978],[\"nan\",0.6059053284758346],[\"nan\",0.463739287745788],[\"nan\",0.43461562811157634],[\"nan\",0.4047180149226571],[\"[1.0, 1.2)\",1.0545002971209663],[\"[1.0, 1.2)\",1.0],[\"[0.2, 0.4)\",0.3054893627992895],[\"nan\",0.5106719710435671],[\"nan\",0.40590376342219603]]},{\"colorscale\":[[0.0,\"rgb(48, 18, 59)\"],[1.0,\"rgb(48, 18, 59)\"]],\"geo\":\"geo\",\"hovertemplate\":\"\\u003cb\\u003e%{hovertext}\\u003c\\u002fb\\u003e\\u003cbr\\u003eRange: %{customdata[0]}\\u003cbr\\u003eRatio: %{customdata[1]:.2f}\\u003cextra\\u003e\\u003c\\u002fextra\\u003e\",\"hovertext\":[\"Argentina\",\"Austria\",\"Azerbaijan\",\"Bahrain\",\"Brazil\",\"Chile\",\"China\",\"Colombia\",\"Costa Rica\",\"Czech Republic\",\"Denmark\",\"Egypt\",\"Estonia\",\"Britain\",\"Greece\",\"Guatemala\",\"Hong Kong\",\"Honduras\",\"Croatia\",\"Hungary\",\"Indonesia\",\"India\",\"Jordan\",\"Japan\",\"South Korea\",\"Kuwait\",\"Sri Lanka\",\"Lithuania\",\"Latvia\",\"Moldova\",\"Mexico\",\"Malaysia\",\"Nicaragua\",\"Netherlands\",\"New Zealand\",\"Oman\",\"Pakistan\",\"Peru\",\"Philippines\",\"Poland\",\"Portugal\",\"Qatar\",\"Saudi Arabia\",\"Singapore\",\"Slovakia\",\"Slovenia\",\"Thailand\",\"Turkey\",\"Taiwan\",\"Ukraine\",\"Vietnam\",\"South Africa\"],\"locations\":[\"ARG\",\"AUT\",\"AZE\",\"BHR\",\"BRA\",\"CHL\",\"CHN\",\"COL\",\"CRI\",\"CZE\",\"DNK\",\"EGY\",\"EST\",\"GBR\",\"GRC\",\"GTM\",\"HKG\",\"HND\",\"HRV\",\"HUN\",\"IDN\",\"IND\",\"JOR\",\"JPN\",\"KOR\",\"KWT\",\"LKA\",\"LTU\",\"LVA\",\"MDA\",\"MEX\",\"MYS\",\"NIC\",\"NLD\",\"NZL\",\"OMN\",\"PAK\",\"PER\",\"PHL\",\"POL\",\"PRT\",\"QAT\",\"SAU\",\"SGP\",\"SVK\",\"SVN\",\"THA\",\"TUR\",\"TWN\",\"UKR\",\"VNM\",\"ZAF\"],\"name\":\"nan\",\"showlegend\":true,\"showscale\":false,\"z\":[1,1,1,1,1,1,1,1,1,1,1,1,1,1,1,1,1,1,1,1,1,1,1,1,1,1,1,1,1,1,1,1,1,1,1,1,1,1,1,1,1,1,1,1,1,1,1,1,1,1,1,1],\"type\":\"choropleth\",\"customdata\":[[\"[0.8, 1.0)\",0.849317067684696],[\"nan\",0.7919531652321016],[\"[0.8, 1.0)\",0.8016776429809349],[\"nan\",0.7725567249775339],[\"nan\",0.47964555214219146],[\"[0.8, 1.0)\",0.816956536757852],[\"nan\",0.7355341126930204],[\"nan\",0.7360883125970987],[\"[0.8, 1.0)\",0.9101425166220323],[\"[1.0, 1.2)\",1.1632159269672198],[\"nan\",0.6346753041744397],[\"nan\",0.6164561505300644],[\"nan\",0.6032427343447716],[\"nan\",0.6772875838605027],[\"nan\",0.6883140218985295],[\"[0.8, 1.0)\",0.8134045518154265],[\"nan\",0.7633865861478304],[\"nan\",0.42081131506737784],[\"[0.8, 1.0)\",0.8134045518154265],[\"nan\",0.6038374402123253],[\"[0.8, 1.0)\",0.8258364991139155],[\"[0.8, 1.0)\",0.9323960473866789],[\"[0.8, 1.0)\",0.8347164614699792],[\"nan\",0.7694984013201525],[\"nan\",0.7103969884850887],[\"nan\",0.5830906013128554],[\"nan\",0.46363540294768135],[\"nan\",0.6266345745274454],[\"nan\",0.6385219361787157],[\"nan\",0.45883896309574507],[\"nan\",0.40499802274179614],[\"nan\",0.4140302037981739],[\"[0.8, 1.0)\",0.8879962356063609],[\"[0.8, 1.0)\",0.8571103085589549],[\"[0.8, 1.0)\",0.905756160318488],[\"nan\",0.5613089040309424],[\"nan\",0.4902693785100224],[\"nan\",0.606971743420113],[\"nan\",0.7329319872943422],[\"[14.8, 15.0)\",14.89904066223256],[\"nan\",0.645099171962257],[\"nan\",0.5416777037198801],[\"nan\",0.5327977413638165],[\"nan\",0.5388441039588339],[\"nan\",0.5943277781374404],[\"nan\",0.4245126866979534],[\"nan\",0.6712209896115273],[\"nan\",0.7991966120457248],[\"[1.0, 1.2)\",1.0856348697725378],[\"nan\",0.7672798960138644],[\"nan\",0.6392221296900673],[\"nan\",0.547089775478264],[\"nan\",0.6188299399452256],[\"nan\",0.47743863719915397],[\"nan\",0.6218878460688886],[\"nan\",0.7103969884850887],[\"nan\",0.6186676539967895],[\"[0.2, 0.4)\",0.39537771106677494],[\"[0.2, 0.4)\",0.3459904322112479],[\"nan\",0.7846268522386097],[\"nan\",0.7348931502726953],[\"nan\",0.6926370637729614],[\"nan\",0.568317590788071],[\"[0.8, 1.0)\",0.9687025051640978],[\"nan\",0.6059053284758346],[\"nan\",0.463739287745788],[\"nan\",0.43461562811157634],[\"nan\",0.4047180149226571],[\"[1.0, 1.2)\",1.0545002971209663],[\"[1.0, 1.2)\",1.0],[\"[0.2, 0.4)\",0.3054893627992895],[\"nan\",0.5106719710435671],[\"nan\",0.40590376342219603]]}],                        {\"template\":{\"data\":{\"histogram2dcontour\":[{\"type\":\"histogram2dcontour\",\"colorbar\":{\"outlinewidth\":0,\"ticks\":\"\"},\"colorscale\":[[0.0,\"#0d0887\"],[0.1111111111111111,\"#46039f\"],[0.2222222222222222,\"#7201a8\"],[0.3333333333333333,\"#9c179e\"],[0.4444444444444444,\"#bd3786\"],[0.5555555555555556,\"#d8576b\"],[0.6666666666666666,\"#ed7953\"],[0.7777777777777778,\"#fb9f3a\"],[0.8888888888888888,\"#fdca26\"],[1.0,\"#f0f921\"]]}],\"choropleth\":[{\"type\":\"choropleth\",\"colorbar\":{\"outlinewidth\":0,\"ticks\":\"\"}}],\"histogram2d\":[{\"type\":\"histogram2d\",\"colorbar\":{\"outlinewidth\":0,\"ticks\":\"\"},\"colorscale\":[[0.0,\"#0d0887\"],[0.1111111111111111,\"#46039f\"],[0.2222222222222222,\"#7201a8\"],[0.3333333333333333,\"#9c179e\"],[0.4444444444444444,\"#bd3786\"],[0.5555555555555556,\"#d8576b\"],[0.6666666666666666,\"#ed7953\"],[0.7777777777777778,\"#fb9f3a\"],[0.8888888888888888,\"#fdca26\"],[1.0,\"#f0f921\"]]}],\"heatmap\":[{\"type\":\"heatmap\",\"colorbar\":{\"outlinewidth\":0,\"ticks\":\"\"},\"colorscale\":[[0.0,\"#0d0887\"],[0.1111111111111111,\"#46039f\"],[0.2222222222222222,\"#7201a8\"],[0.3333333333333333,\"#9c179e\"],[0.4444444444444444,\"#bd3786\"],[0.5555555555555556,\"#d8576b\"],[0.6666666666666666,\"#ed7953\"],[0.7777777777777778,\"#fb9f3a\"],[0.8888888888888888,\"#fdca26\"],[1.0,\"#f0f921\"]]}],\"heatmapgl\":[{\"type\":\"heatmapgl\",\"colorbar\":{\"outlinewidth\":0,\"ticks\":\"\"},\"colorscale\":[[0.0,\"#0d0887\"],[0.1111111111111111,\"#46039f\"],[0.2222222222222222,\"#7201a8\"],[0.3333333333333333,\"#9c179e\"],[0.4444444444444444,\"#bd3786\"],[0.5555555555555556,\"#d8576b\"],[0.6666666666666666,\"#ed7953\"],[0.7777777777777778,\"#fb9f3a\"],[0.8888888888888888,\"#fdca26\"],[1.0,\"#f0f921\"]]}],\"contourcarpet\":[{\"type\":\"contourcarpet\",\"colorbar\":{\"outlinewidth\":0,\"ticks\":\"\"}}],\"contour\":[{\"type\":\"contour\",\"colorbar\":{\"outlinewidth\":0,\"ticks\":\"\"},\"colorscale\":[[0.0,\"#0d0887\"],[0.1111111111111111,\"#46039f\"],[0.2222222222222222,\"#7201a8\"],[0.3333333333333333,\"#9c179e\"],[0.4444444444444444,\"#bd3786\"],[0.5555555555555556,\"#d8576b\"],[0.6666666666666666,\"#ed7953\"],[0.7777777777777778,\"#fb9f3a\"],[0.8888888888888888,\"#fdca26\"],[1.0,\"#f0f921\"]]}],\"surface\":[{\"type\":\"surface\",\"colorbar\":{\"outlinewidth\":0,\"ticks\":\"\"},\"colorscale\":[[0.0,\"#0d0887\"],[0.1111111111111111,\"#46039f\"],[0.2222222222222222,\"#7201a8\"],[0.3333333333333333,\"#9c179e\"],[0.4444444444444444,\"#bd3786\"],[0.5555555555555556,\"#d8576b\"],[0.6666666666666666,\"#ed7953\"],[0.7777777777777778,\"#fb9f3a\"],[0.8888888888888888,\"#fdca26\"],[1.0,\"#f0f921\"]]}],\"mesh3d\":[{\"type\":\"mesh3d\",\"colorbar\":{\"outlinewidth\":0,\"ticks\":\"\"}}],\"scatter\":[{\"fillpattern\":{\"fillmode\":\"overlay\",\"size\":10,\"solidity\":0.2},\"type\":\"scatter\"}],\"parcoords\":[{\"type\":\"parcoords\",\"line\":{\"colorbar\":{\"outlinewidth\":0,\"ticks\":\"\"}}}],\"scatterpolargl\":[{\"type\":\"scatterpolargl\",\"marker\":{\"colorbar\":{\"outlinewidth\":0,\"ticks\":\"\"}}}],\"bar\":[{\"error_x\":{\"color\":\"#2a3f5f\"},\"error_y\":{\"color\":\"#2a3f5f\"},\"marker\":{\"line\":{\"color\":\"white\",\"width\":0.5},\"pattern\":{\"fillmode\":\"overlay\",\"size\":10,\"solidity\":0.2}},\"type\":\"bar\"}],\"scattergeo\":[{\"type\":\"scattergeo\",\"marker\":{\"colorbar\":{\"outlinewidth\":0,\"ticks\":\"\"}}}],\"scatterpolar\":[{\"type\":\"scatterpolar\",\"marker\":{\"colorbar\":{\"outlinewidth\":0,\"ticks\":\"\"}}}],\"histogram\":[{\"marker\":{\"pattern\":{\"fillmode\":\"overlay\",\"size\":10,\"solidity\":0.2}},\"type\":\"histogram\"}],\"scattergl\":[{\"type\":\"scattergl\",\"marker\":{\"colorbar\":{\"outlinewidth\":0,\"ticks\":\"\"}}}],\"scatter3d\":[{\"type\":\"scatter3d\",\"line\":{\"colorbar\":{\"outlinewidth\":0,\"ticks\":\"\"}},\"marker\":{\"colorbar\":{\"outlinewidth\":0,\"ticks\":\"\"}}}],\"scattermapbox\":[{\"type\":\"scattermapbox\",\"marker\":{\"colorbar\":{\"outlinewidth\":0,\"ticks\":\"\"}}}],\"scatterternary\":[{\"type\":\"scatterternary\",\"marker\":{\"colorbar\":{\"outlinewidth\":0,\"ticks\":\"\"}}}],\"scattercarpet\":[{\"type\":\"scattercarpet\",\"marker\":{\"colorbar\":{\"outlinewidth\":0,\"ticks\":\"\"}}}],\"carpet\":[{\"aaxis\":{\"endlinecolor\":\"#2a3f5f\",\"gridcolor\":\"#C8D4E3\",\"linecolor\":\"#C8D4E3\",\"minorgridcolor\":\"#C8D4E3\",\"startlinecolor\":\"#2a3f5f\"},\"baxis\":{\"endlinecolor\":\"#2a3f5f\",\"gridcolor\":\"#C8D4E3\",\"linecolor\":\"#C8D4E3\",\"minorgridcolor\":\"#C8D4E3\",\"startlinecolor\":\"#2a3f5f\"},\"type\":\"carpet\"}],\"table\":[{\"cells\":{\"fill\":{\"color\":\"#EBF0F8\"},\"line\":{\"color\":\"white\"}},\"header\":{\"fill\":{\"color\":\"#C8D4E3\"},\"line\":{\"color\":\"white\"}},\"type\":\"table\"}],\"barpolar\":[{\"marker\":{\"line\":{\"color\":\"white\",\"width\":0.5},\"pattern\":{\"fillmode\":\"overlay\",\"size\":10,\"solidity\":0.2}},\"type\":\"barpolar\"}],\"pie\":[{\"automargin\":true,\"type\":\"pie\"}]},\"layout\":{\"autotypenumbers\":\"strict\",\"colorway\":[\"#636efa\",\"#EF553B\",\"#00cc96\",\"#ab63fa\",\"#FFA15A\",\"#19d3f3\",\"#FF6692\",\"#B6E880\",\"#FF97FF\",\"#FECB52\"],\"font\":{\"color\":\"#2a3f5f\"},\"hovermode\":\"closest\",\"hoverlabel\":{\"align\":\"left\"},\"paper_bgcolor\":\"white\",\"plot_bgcolor\":\"white\",\"polar\":{\"bgcolor\":\"white\",\"angularaxis\":{\"gridcolor\":\"#EBF0F8\",\"linecolor\":\"#EBF0F8\",\"ticks\":\"\"},\"radialaxis\":{\"gridcolor\":\"#EBF0F8\",\"linecolor\":\"#EBF0F8\",\"ticks\":\"\"}},\"ternary\":{\"bgcolor\":\"white\",\"aaxis\":{\"gridcolor\":\"#DFE8F3\",\"linecolor\":\"#A2B1C6\",\"ticks\":\"\"},\"baxis\":{\"gridcolor\":\"#DFE8F3\",\"linecolor\":\"#A2B1C6\",\"ticks\":\"\"},\"caxis\":{\"gridcolor\":\"#DFE8F3\",\"linecolor\":\"#A2B1C6\",\"ticks\":\"\"}},\"coloraxis\":{\"colorbar\":{\"outlinewidth\":0,\"ticks\":\"\"}},\"colorscale\":{\"sequential\":[[0.0,\"#0d0887\"],[0.1111111111111111,\"#46039f\"],[0.2222222222222222,\"#7201a8\"],[0.3333333333333333,\"#9c179e\"],[0.4444444444444444,\"#bd3786\"],[0.5555555555555556,\"#d8576b\"],[0.6666666666666666,\"#ed7953\"],[0.7777777777777778,\"#fb9f3a\"],[0.8888888888888888,\"#fdca26\"],[1.0,\"#f0f921\"]],\"sequentialminus\":[[0.0,\"#0d0887\"],[0.1111111111111111,\"#46039f\"],[0.2222222222222222,\"#7201a8\"],[0.3333333333333333,\"#9c179e\"],[0.4444444444444444,\"#bd3786\"],[0.5555555555555556,\"#d8576b\"],[0.6666666666666666,\"#ed7953\"],[0.7777777777777778,\"#fb9f3a\"],[0.8888888888888888,\"#fdca26\"],[1.0,\"#f0f921\"]],\"diverging\":[[0,\"#8e0152\"],[0.1,\"#c51b7d\"],[0.2,\"#de77ae\"],[0.3,\"#f1b6da\"],[0.4,\"#fde0ef\"],[0.5,\"#f7f7f7\"],[0.6,\"#e6f5d0\"],[0.7,\"#b8e186\"],[0.8,\"#7fbc41\"],[0.9,\"#4d9221\"],[1,\"#276419\"]]},\"xaxis\":{\"gridcolor\":\"#EBF0F8\",\"linecolor\":\"#EBF0F8\",\"ticks\":\"\",\"title\":{\"standoff\":15},\"zerolinecolor\":\"#EBF0F8\",\"automargin\":true,\"zerolinewidth\":2},\"yaxis\":{\"gridcolor\":\"#EBF0F8\",\"linecolor\":\"#EBF0F8\",\"ticks\":\"\",\"title\":{\"standoff\":15},\"zerolinecolor\":\"#EBF0F8\",\"automargin\":true,\"zerolinewidth\":2},\"scene\":{\"xaxis\":{\"backgroundcolor\":\"white\",\"gridcolor\":\"#DFE8F3\",\"linecolor\":\"#EBF0F8\",\"showbackground\":true,\"ticks\":\"\",\"zerolinecolor\":\"#EBF0F8\",\"gridwidth\":2},\"yaxis\":{\"backgroundcolor\":\"white\",\"gridcolor\":\"#DFE8F3\",\"linecolor\":\"#EBF0F8\",\"showbackground\":true,\"ticks\":\"\",\"zerolinecolor\":\"#EBF0F8\",\"gridwidth\":2},\"zaxis\":{\"backgroundcolor\":\"white\",\"gridcolor\":\"#DFE8F3\",\"linecolor\":\"#EBF0F8\",\"showbackground\":true,\"ticks\":\"\",\"zerolinecolor\":\"#EBF0F8\",\"gridwidth\":2}},\"shapedefaults\":{\"line\":{\"color\":\"#2a3f5f\"}},\"annotationdefaults\":{\"arrowcolor\":\"#2a3f5f\",\"arrowhead\":0,\"arrowwidth\":1},\"geo\":{\"bgcolor\":\"white\",\"landcolor\":\"white\",\"subunitcolor\":\"#C8D4E3\",\"showland\":true,\"showlakes\":true,\"lakecolor\":\"white\"},\"title\":{\"x\":0.05},\"mapbox\":{\"style\":\"light\"}}},\"geo\":{\"domain\":{\"x\":[0.0,1.0],\"y\":[0.0,1.0]},\"center\":{},\"projection\":{\"type\":\"natural earth\"},\"showframe\":false,\"showcoastlines\":true},\"legend\":{\"title\":{\"text\":\"Price Ratio vs US\"},\"tracegroupgap\":0},\"title\":{\"text\":\"Big Mac Price Relative to the United States (Latest)\"},\"margin\":{\"l\":10,\"r\":10,\"t\":50,\"b\":10}},                        {\"responsive\": true}                    ).then(function(){\n",
              "                            \n",
              "var gd = document.getElementById('80813b6c-525b-4430-9d39-8b9bf6721d9a');\n",
              "var x = new MutationObserver(function (mutations, observer) {{\n",
              "        var display = window.getComputedStyle(gd).display;\n",
              "        if (!display || display === 'none') {{\n",
              "            console.log([gd, 'removed!']);\n",
              "            Plotly.purge(gd);\n",
              "            observer.disconnect();\n",
              "        }}\n",
              "}});\n",
              "\n",
              "// Listen for the removal of the full notebook cells\n",
              "var notebookContainer = gd.closest('#notebook-container');\n",
              "if (notebookContainer) {{\n",
              "    x.observe(notebookContainer, {childList: true});\n",
              "}}\n",
              "\n",
              "// Listen for the clearing of the current output cell\n",
              "var outputEl = gd.closest('.output');\n",
              "if (outputEl) {{\n",
              "    x.observe(outputEl, {childList: true});\n",
              "}}\n",
              "\n",
              "                        })                };                            </script>        </div>\n",
              "</body>\n",
              "</html>"
            ]
          },
          "metadata": {}
        },
        {
          "output_type": "stream",
          "name": "stdout",
          "text": [
            "   ✓ Saved figures/06_time_trends.html\n"
          ]
        },
        {
          "output_type": "display_data",
          "data": {
            "text/html": [
              "<html>\n",
              "<head><meta charset=\"utf-8\" /></head>\n",
              "<body>\n",
              "    <div>            <script src=\"https://cdnjs.cloudflare.com/ajax/libs/mathjax/2.7.5/MathJax.js?config=TeX-AMS-MML_SVG\"></script><script type=\"text/javascript\">if (window.MathJax && window.MathJax.Hub && window.MathJax.Hub.Config) {window.MathJax.Hub.Config({SVG: {font: \"STIX-Web\"}});}</script>                <script type=\"text/javascript\">window.PlotlyConfig = {MathJaxConfig: 'local'};</script>\n",
              "        <script charset=\"utf-8\" src=\"https://cdn.plot.ly/plotly-2.35.2.min.js\"></script>                <div id=\"7203129a-b920-4d00-8126-33ee5c934a2a\" class=\"plotly-graph-div\" style=\"height:525px; width:100%;\"></div>            <script type=\"text/javascript\">                                    window.PLOTLYENV=window.PLOTLYENV || {};                                    if (document.getElementById(\"7203129a-b920-4d00-8126-33ee5c934a2a\")) {                    Plotly.newPlot(                        \"7203129a-b920-4d00-8126-33ee5c934a2a\",                        [{\"mode\":\"lines+markers\",\"name\":\"Avg Price (USD)\",\"x\":[2000,2001,2002,2003,2004,2005,2006,2007,2008,2009,2010,2011,2012,2013,2014,2015,2016,2017,2018,2019,2020,2021,2022],\"y\":[2.060260087165299,1.880494912884385,2.043685878213123,2.1450423421381783,2.2289944762567044,2.4874190818249664,2.5771867302076723,2.822246414609049,3.4333239411175724,3.0888727203286623,3.341443450468599,4.105032169476328,3.7964992480040185,4.022557018218937,4.0257994525297685,3.543714082583808,3.4466072356677944,3.654721073323666,3.7638943994755056,3.60966180090043,3.704324426293595,3.877821364159665,4.454411383875899],\"type\":\"scatter\",\"xaxis\":\"x\",\"yaxis\":\"y\"},{\"mode\":\"lines+markers\",\"name\":\"Avg Affordability\",\"x\":[2000,2001,2002,2003,2004,2005,2006,2007,2008,2009,2010,2011,2012,2013,2014,2015,2016,2017,2018,2019,2020,2021,2022],\"y\":[0.05277344438817534,0.05031103039631276,0.05527032315808323,0.05750449129113742,0.06223679968234794,0.0630486229110733,0.05740361925641196,0.06122842542601111,0.06903995507934557,0.06329785596458103,0.06508342887145857,0.06898216578284964,0.06269149631997131,0.0641764377515974,0.06269382640118314,0.056160009851558564,0.05243624207775673,0.0540274850180516,0.054677603571487224,0.052731366051929504,0.05577059522804375,0.05204805884086748,0.06570939988574168],\"type\":\"scatter\",\"xaxis\":\"x\",\"yaxis\":\"y2\"}],                        {\"template\":{\"data\":{\"histogram2dcontour\":[{\"type\":\"histogram2dcontour\",\"colorbar\":{\"outlinewidth\":0,\"ticks\":\"\"},\"colorscale\":[[0.0,\"#0d0887\"],[0.1111111111111111,\"#46039f\"],[0.2222222222222222,\"#7201a8\"],[0.3333333333333333,\"#9c179e\"],[0.4444444444444444,\"#bd3786\"],[0.5555555555555556,\"#d8576b\"],[0.6666666666666666,\"#ed7953\"],[0.7777777777777778,\"#fb9f3a\"],[0.8888888888888888,\"#fdca26\"],[1.0,\"#f0f921\"]]}],\"choropleth\":[{\"type\":\"choropleth\",\"colorbar\":{\"outlinewidth\":0,\"ticks\":\"\"}}],\"histogram2d\":[{\"type\":\"histogram2d\",\"colorbar\":{\"outlinewidth\":0,\"ticks\":\"\"},\"colorscale\":[[0.0,\"#0d0887\"],[0.1111111111111111,\"#46039f\"],[0.2222222222222222,\"#7201a8\"],[0.3333333333333333,\"#9c179e\"],[0.4444444444444444,\"#bd3786\"],[0.5555555555555556,\"#d8576b\"],[0.6666666666666666,\"#ed7953\"],[0.7777777777777778,\"#fb9f3a\"],[0.8888888888888888,\"#fdca26\"],[1.0,\"#f0f921\"]]}],\"heatmap\":[{\"type\":\"heatmap\",\"colorbar\":{\"outlinewidth\":0,\"ticks\":\"\"},\"colorscale\":[[0.0,\"#0d0887\"],[0.1111111111111111,\"#46039f\"],[0.2222222222222222,\"#7201a8\"],[0.3333333333333333,\"#9c179e\"],[0.4444444444444444,\"#bd3786\"],[0.5555555555555556,\"#d8576b\"],[0.6666666666666666,\"#ed7953\"],[0.7777777777777778,\"#fb9f3a\"],[0.8888888888888888,\"#fdca26\"],[1.0,\"#f0f921\"]]}],\"heatmapgl\":[{\"type\":\"heatmapgl\",\"colorbar\":{\"outlinewidth\":0,\"ticks\":\"\"},\"colorscale\":[[0.0,\"#0d0887\"],[0.1111111111111111,\"#46039f\"],[0.2222222222222222,\"#7201a8\"],[0.3333333333333333,\"#9c179e\"],[0.4444444444444444,\"#bd3786\"],[0.5555555555555556,\"#d8576b\"],[0.6666666666666666,\"#ed7953\"],[0.7777777777777778,\"#fb9f3a\"],[0.8888888888888888,\"#fdca26\"],[1.0,\"#f0f921\"]]}],\"contourcarpet\":[{\"type\":\"contourcarpet\",\"colorbar\":{\"outlinewidth\":0,\"ticks\":\"\"}}],\"contour\":[{\"type\":\"contour\",\"colorbar\":{\"outlinewidth\":0,\"ticks\":\"\"},\"colorscale\":[[0.0,\"#0d0887\"],[0.1111111111111111,\"#46039f\"],[0.2222222222222222,\"#7201a8\"],[0.3333333333333333,\"#9c179e\"],[0.4444444444444444,\"#bd3786\"],[0.5555555555555556,\"#d8576b\"],[0.6666666666666666,\"#ed7953\"],[0.7777777777777778,\"#fb9f3a\"],[0.8888888888888888,\"#fdca26\"],[1.0,\"#f0f921\"]]}],\"surface\":[{\"type\":\"surface\",\"colorbar\":{\"outlinewidth\":0,\"ticks\":\"\"},\"colorscale\":[[0.0,\"#0d0887\"],[0.1111111111111111,\"#46039f\"],[0.2222222222222222,\"#7201a8\"],[0.3333333333333333,\"#9c179e\"],[0.4444444444444444,\"#bd3786\"],[0.5555555555555556,\"#d8576b\"],[0.6666666666666666,\"#ed7953\"],[0.7777777777777778,\"#fb9f3a\"],[0.8888888888888888,\"#fdca26\"],[1.0,\"#f0f921\"]]}],\"mesh3d\":[{\"type\":\"mesh3d\",\"colorbar\":{\"outlinewidth\":0,\"ticks\":\"\"}}],\"scatter\":[{\"fillpattern\":{\"fillmode\":\"overlay\",\"size\":10,\"solidity\":0.2},\"type\":\"scatter\"}],\"parcoords\":[{\"type\":\"parcoords\",\"line\":{\"colorbar\":{\"outlinewidth\":0,\"ticks\":\"\"}}}],\"scatterpolargl\":[{\"type\":\"scatterpolargl\",\"marker\":{\"colorbar\":{\"outlinewidth\":0,\"ticks\":\"\"}}}],\"bar\":[{\"error_x\":{\"color\":\"#2a3f5f\"},\"error_y\":{\"color\":\"#2a3f5f\"},\"marker\":{\"line\":{\"color\":\"white\",\"width\":0.5},\"pattern\":{\"fillmode\":\"overlay\",\"size\":10,\"solidity\":0.2}},\"type\":\"bar\"}],\"scattergeo\":[{\"type\":\"scattergeo\",\"marker\":{\"colorbar\":{\"outlinewidth\":0,\"ticks\":\"\"}}}],\"scatterpolar\":[{\"type\":\"scatterpolar\",\"marker\":{\"colorbar\":{\"outlinewidth\":0,\"ticks\":\"\"}}}],\"histogram\":[{\"marker\":{\"pattern\":{\"fillmode\":\"overlay\",\"size\":10,\"solidity\":0.2}},\"type\":\"histogram\"}],\"scattergl\":[{\"type\":\"scattergl\",\"marker\":{\"colorbar\":{\"outlinewidth\":0,\"ticks\":\"\"}}}],\"scatter3d\":[{\"type\":\"scatter3d\",\"line\":{\"colorbar\":{\"outlinewidth\":0,\"ticks\":\"\"}},\"marker\":{\"colorbar\":{\"outlinewidth\":0,\"ticks\":\"\"}}}],\"scattermapbox\":[{\"type\":\"scattermapbox\",\"marker\":{\"colorbar\":{\"outlinewidth\":0,\"ticks\":\"\"}}}],\"scatterternary\":[{\"type\":\"scatterternary\",\"marker\":{\"colorbar\":{\"outlinewidth\":0,\"ticks\":\"\"}}}],\"scattercarpet\":[{\"type\":\"scattercarpet\",\"marker\":{\"colorbar\":{\"outlinewidth\":0,\"ticks\":\"\"}}}],\"carpet\":[{\"aaxis\":{\"endlinecolor\":\"#2a3f5f\",\"gridcolor\":\"#C8D4E3\",\"linecolor\":\"#C8D4E3\",\"minorgridcolor\":\"#C8D4E3\",\"startlinecolor\":\"#2a3f5f\"},\"baxis\":{\"endlinecolor\":\"#2a3f5f\",\"gridcolor\":\"#C8D4E3\",\"linecolor\":\"#C8D4E3\",\"minorgridcolor\":\"#C8D4E3\",\"startlinecolor\":\"#2a3f5f\"},\"type\":\"carpet\"}],\"table\":[{\"cells\":{\"fill\":{\"color\":\"#EBF0F8\"},\"line\":{\"color\":\"white\"}},\"header\":{\"fill\":{\"color\":\"#C8D4E3\"},\"line\":{\"color\":\"white\"}},\"type\":\"table\"}],\"barpolar\":[{\"marker\":{\"line\":{\"color\":\"white\",\"width\":0.5},\"pattern\":{\"fillmode\":\"overlay\",\"size\":10,\"solidity\":0.2}},\"type\":\"barpolar\"}],\"pie\":[{\"automargin\":true,\"type\":\"pie\"}]},\"layout\":{\"autotypenumbers\":\"strict\",\"colorway\":[\"#636efa\",\"#EF553B\",\"#00cc96\",\"#ab63fa\",\"#FFA15A\",\"#19d3f3\",\"#FF6692\",\"#B6E880\",\"#FF97FF\",\"#FECB52\"],\"font\":{\"color\":\"#2a3f5f\"},\"hovermode\":\"closest\",\"hoverlabel\":{\"align\":\"left\"},\"paper_bgcolor\":\"white\",\"plot_bgcolor\":\"white\",\"polar\":{\"bgcolor\":\"white\",\"angularaxis\":{\"gridcolor\":\"#EBF0F8\",\"linecolor\":\"#EBF0F8\",\"ticks\":\"\"},\"radialaxis\":{\"gridcolor\":\"#EBF0F8\",\"linecolor\":\"#EBF0F8\",\"ticks\":\"\"}},\"ternary\":{\"bgcolor\":\"white\",\"aaxis\":{\"gridcolor\":\"#DFE8F3\",\"linecolor\":\"#A2B1C6\",\"ticks\":\"\"},\"baxis\":{\"gridcolor\":\"#DFE8F3\",\"linecolor\":\"#A2B1C6\",\"ticks\":\"\"},\"caxis\":{\"gridcolor\":\"#DFE8F3\",\"linecolor\":\"#A2B1C6\",\"ticks\":\"\"}},\"coloraxis\":{\"colorbar\":{\"outlinewidth\":0,\"ticks\":\"\"}},\"colorscale\":{\"sequential\":[[0.0,\"#0d0887\"],[0.1111111111111111,\"#46039f\"],[0.2222222222222222,\"#7201a8\"],[0.3333333333333333,\"#9c179e\"],[0.4444444444444444,\"#bd3786\"],[0.5555555555555556,\"#d8576b\"],[0.6666666666666666,\"#ed7953\"],[0.7777777777777778,\"#fb9f3a\"],[0.8888888888888888,\"#fdca26\"],[1.0,\"#f0f921\"]],\"sequentialminus\":[[0.0,\"#0d0887\"],[0.1111111111111111,\"#46039f\"],[0.2222222222222222,\"#7201a8\"],[0.3333333333333333,\"#9c179e\"],[0.4444444444444444,\"#bd3786\"],[0.5555555555555556,\"#d8576b\"],[0.6666666666666666,\"#ed7953\"],[0.7777777777777778,\"#fb9f3a\"],[0.8888888888888888,\"#fdca26\"],[1.0,\"#f0f921\"]],\"diverging\":[[0,\"#8e0152\"],[0.1,\"#c51b7d\"],[0.2,\"#de77ae\"],[0.3,\"#f1b6da\"],[0.4,\"#fde0ef\"],[0.5,\"#f7f7f7\"],[0.6,\"#e6f5d0\"],[0.7,\"#b8e186\"],[0.8,\"#7fbc41\"],[0.9,\"#4d9221\"],[1,\"#276419\"]]},\"xaxis\":{\"gridcolor\":\"#EBF0F8\",\"linecolor\":\"#EBF0F8\",\"ticks\":\"\",\"title\":{\"standoff\":15},\"zerolinecolor\":\"#EBF0F8\",\"automargin\":true,\"zerolinewidth\":2},\"yaxis\":{\"gridcolor\":\"#EBF0F8\",\"linecolor\":\"#EBF0F8\",\"ticks\":\"\",\"title\":{\"standoff\":15},\"zerolinecolor\":\"#EBF0F8\",\"automargin\":true,\"zerolinewidth\":2},\"scene\":{\"xaxis\":{\"backgroundcolor\":\"white\",\"gridcolor\":\"#DFE8F3\",\"linecolor\":\"#EBF0F8\",\"showbackground\":true,\"ticks\":\"\",\"zerolinecolor\":\"#EBF0F8\",\"gridwidth\":2},\"yaxis\":{\"backgroundcolor\":\"white\",\"gridcolor\":\"#DFE8F3\",\"linecolor\":\"#EBF0F8\",\"showbackground\":true,\"ticks\":\"\",\"zerolinecolor\":\"#EBF0F8\",\"gridwidth\":2},\"zaxis\":{\"backgroundcolor\":\"white\",\"gridcolor\":\"#DFE8F3\",\"linecolor\":\"#EBF0F8\",\"showbackground\":true,\"ticks\":\"\",\"zerolinecolor\":\"#EBF0F8\",\"gridwidth\":2}},\"shapedefaults\":{\"line\":{\"color\":\"#2a3f5f\"}},\"annotationdefaults\":{\"arrowcolor\":\"#2a3f5f\",\"arrowhead\":0,\"arrowwidth\":1},\"geo\":{\"bgcolor\":\"white\",\"landcolor\":\"white\",\"subunitcolor\":\"#C8D4E3\",\"showland\":true,\"showlakes\":true,\"lakecolor\":\"white\"},\"title\":{\"x\":0.05},\"mapbox\":{\"style\":\"light\"}}},\"xaxis\":{\"anchor\":\"y\",\"domain\":[0.0,0.94],\"title\":{\"text\":\"Year\"}},\"yaxis\":{\"anchor\":\"x\",\"domain\":[0.0,1.0],\"title\":{\"text\":\"Price (USD)\"}},\"yaxis2\":{\"anchor\":\"x\",\"overlaying\":\"y\",\"side\":\"right\",\"title\":{\"text\":\"Affordability Ratio\"}},\"title\":{\"text\":\"Global Trends Over Time\"}},                        {\"responsive\": true}                    ).then(function(){\n",
              "                            \n",
              "var gd = document.getElementById('7203129a-b920-4d00-8126-33ee5c934a2a');\n",
              "var x = new MutationObserver(function (mutations, observer) {{\n",
              "        var display = window.getComputedStyle(gd).display;\n",
              "        if (!display || display === 'none') {{\n",
              "            console.log([gd, 'removed!']);\n",
              "            Plotly.purge(gd);\n",
              "            observer.disconnect();\n",
              "        }}\n",
              "}});\n",
              "\n",
              "// Listen for the removal of the full notebook cells\n",
              "var notebookContainer = gd.closest('#notebook-container');\n",
              "if (notebookContainer) {{\n",
              "    x.observe(notebookContainer, {childList: true});\n",
              "}}\n",
              "\n",
              "// Listen for the clearing of the current output cell\n",
              "var outputEl = gd.closest('.output');\n",
              "if (outputEl) {{\n",
              "    x.observe(outputEl, {childList: true});\n",
              "}}\n",
              "\n",
              "                        })                };                            </script>        </div>\n",
              "</body>\n",
              "</html>"
            ]
          },
          "metadata": {}
        },
        {
          "output_type": "stream",
          "name": "stdout",
          "text": [
            "   ✓ Saved figures/07_correlation_heatmap.html\n"
          ]
        },
        {
          "output_type": "display_data",
          "data": {
            "text/html": [
              "<html>\n",
              "<head><meta charset=\"utf-8\" /></head>\n",
              "<body>\n",
              "    <div>            <script src=\"https://cdnjs.cloudflare.com/ajax/libs/mathjax/2.7.5/MathJax.js?config=TeX-AMS-MML_SVG\"></script><script type=\"text/javascript\">if (window.MathJax && window.MathJax.Hub && window.MathJax.Hub.Config) {window.MathJax.Hub.Config({SVG: {font: \"STIX-Web\"}});}</script>                <script type=\"text/javascript\">window.PlotlyConfig = {MathJaxConfig: 'local'};</script>\n",
              "        <script charset=\"utf-8\" src=\"https://cdn.plot.ly/plotly-2.35.2.min.js\"></script>                <div id=\"4bcc582b-ea58-472c-8242-270693516793\" class=\"plotly-graph-div\" style=\"height:525px; width:100%;\"></div>            <script type=\"text/javascript\">                                    window.PLOTLYENV=window.PLOTLYENV || {};                                    if (document.getElementById(\"4bcc582b-ea58-472c-8242-270693516793\")) {                    Plotly.newPlot(                        \"4bcc582b-ea58-472c-8242-270693516793\",                        [{\"coloraxis\":\"coloraxis\",\"name\":\"0\",\"texttemplate\":\"%{z:.2f}\",\"x\":[\"usd_price\",\"gdp_ppp_pc\",\"inflation_pct\",\"unemployment_pct\",\"urban_pct\",\"gini_index\"],\"y\":[\"usd_price\",\"gdp_ppp_pc\",\"inflation_pct\",\"unemployment_pct\",\"urban_pct\",\"gini_index\"],\"z\":[[1.0,-0.07,0.48,0.14,0.14,-0.01],[-0.07,1.0,-0.23,-0.3,0.47,-0.41],[0.48,-0.23,1.0,0.11,0.06,0.17],[0.14,-0.3,0.11,1.0,0.07,0.57],[0.14,0.47,0.06,0.07,1.0,0.17],[-0.01,-0.41,0.17,0.57,0.17,1.0]],\"type\":\"heatmap\",\"xaxis\":\"x\",\"yaxis\":\"y\",\"hovertemplate\":\"x: %{x}\\u003cbr\\u003ey: %{y}\\u003cbr\\u003ecolor: %{z}\\u003cextra\\u003e\\u003c\\u002fextra\\u003e\"}],                        {\"template\":{\"data\":{\"histogram2dcontour\":[{\"type\":\"histogram2dcontour\",\"colorbar\":{\"outlinewidth\":0,\"ticks\":\"\"},\"colorscale\":[[0.0,\"#0d0887\"],[0.1111111111111111,\"#46039f\"],[0.2222222222222222,\"#7201a8\"],[0.3333333333333333,\"#9c179e\"],[0.4444444444444444,\"#bd3786\"],[0.5555555555555556,\"#d8576b\"],[0.6666666666666666,\"#ed7953\"],[0.7777777777777778,\"#fb9f3a\"],[0.8888888888888888,\"#fdca26\"],[1.0,\"#f0f921\"]]}],\"choropleth\":[{\"type\":\"choropleth\",\"colorbar\":{\"outlinewidth\":0,\"ticks\":\"\"}}],\"histogram2d\":[{\"type\":\"histogram2d\",\"colorbar\":{\"outlinewidth\":0,\"ticks\":\"\"},\"colorscale\":[[0.0,\"#0d0887\"],[0.1111111111111111,\"#46039f\"],[0.2222222222222222,\"#7201a8\"],[0.3333333333333333,\"#9c179e\"],[0.4444444444444444,\"#bd3786\"],[0.5555555555555556,\"#d8576b\"],[0.6666666666666666,\"#ed7953\"],[0.7777777777777778,\"#fb9f3a\"],[0.8888888888888888,\"#fdca26\"],[1.0,\"#f0f921\"]]}],\"heatmap\":[{\"type\":\"heatmap\",\"colorbar\":{\"outlinewidth\":0,\"ticks\":\"\"},\"colorscale\":[[0.0,\"#0d0887\"],[0.1111111111111111,\"#46039f\"],[0.2222222222222222,\"#7201a8\"],[0.3333333333333333,\"#9c179e\"],[0.4444444444444444,\"#bd3786\"],[0.5555555555555556,\"#d8576b\"],[0.6666666666666666,\"#ed7953\"],[0.7777777777777778,\"#fb9f3a\"],[0.8888888888888888,\"#fdca26\"],[1.0,\"#f0f921\"]]}],\"heatmapgl\":[{\"type\":\"heatmapgl\",\"colorbar\":{\"outlinewidth\":0,\"ticks\":\"\"},\"colorscale\":[[0.0,\"#0d0887\"],[0.1111111111111111,\"#46039f\"],[0.2222222222222222,\"#7201a8\"],[0.3333333333333333,\"#9c179e\"],[0.4444444444444444,\"#bd3786\"],[0.5555555555555556,\"#d8576b\"],[0.6666666666666666,\"#ed7953\"],[0.7777777777777778,\"#fb9f3a\"],[0.8888888888888888,\"#fdca26\"],[1.0,\"#f0f921\"]]}],\"contourcarpet\":[{\"type\":\"contourcarpet\",\"colorbar\":{\"outlinewidth\":0,\"ticks\":\"\"}}],\"contour\":[{\"type\":\"contour\",\"colorbar\":{\"outlinewidth\":0,\"ticks\":\"\"},\"colorscale\":[[0.0,\"#0d0887\"],[0.1111111111111111,\"#46039f\"],[0.2222222222222222,\"#7201a8\"],[0.3333333333333333,\"#9c179e\"],[0.4444444444444444,\"#bd3786\"],[0.5555555555555556,\"#d8576b\"],[0.6666666666666666,\"#ed7953\"],[0.7777777777777778,\"#fb9f3a\"],[0.8888888888888888,\"#fdca26\"],[1.0,\"#f0f921\"]]}],\"surface\":[{\"type\":\"surface\",\"colorbar\":{\"outlinewidth\":0,\"ticks\":\"\"},\"colorscale\":[[0.0,\"#0d0887\"],[0.1111111111111111,\"#46039f\"],[0.2222222222222222,\"#7201a8\"],[0.3333333333333333,\"#9c179e\"],[0.4444444444444444,\"#bd3786\"],[0.5555555555555556,\"#d8576b\"],[0.6666666666666666,\"#ed7953\"],[0.7777777777777778,\"#fb9f3a\"],[0.8888888888888888,\"#fdca26\"],[1.0,\"#f0f921\"]]}],\"mesh3d\":[{\"type\":\"mesh3d\",\"colorbar\":{\"outlinewidth\":0,\"ticks\":\"\"}}],\"scatter\":[{\"fillpattern\":{\"fillmode\":\"overlay\",\"size\":10,\"solidity\":0.2},\"type\":\"scatter\"}],\"parcoords\":[{\"type\":\"parcoords\",\"line\":{\"colorbar\":{\"outlinewidth\":0,\"ticks\":\"\"}}}],\"scatterpolargl\":[{\"type\":\"scatterpolargl\",\"marker\":{\"colorbar\":{\"outlinewidth\":0,\"ticks\":\"\"}}}],\"bar\":[{\"error_x\":{\"color\":\"#2a3f5f\"},\"error_y\":{\"color\":\"#2a3f5f\"},\"marker\":{\"line\":{\"color\":\"white\",\"width\":0.5},\"pattern\":{\"fillmode\":\"overlay\",\"size\":10,\"solidity\":0.2}},\"type\":\"bar\"}],\"scattergeo\":[{\"type\":\"scattergeo\",\"marker\":{\"colorbar\":{\"outlinewidth\":0,\"ticks\":\"\"}}}],\"scatterpolar\":[{\"type\":\"scatterpolar\",\"marker\":{\"colorbar\":{\"outlinewidth\":0,\"ticks\":\"\"}}}],\"histogram\":[{\"marker\":{\"pattern\":{\"fillmode\":\"overlay\",\"size\":10,\"solidity\":0.2}},\"type\":\"histogram\"}],\"scattergl\":[{\"type\":\"scattergl\",\"marker\":{\"colorbar\":{\"outlinewidth\":0,\"ticks\":\"\"}}}],\"scatter3d\":[{\"type\":\"scatter3d\",\"line\":{\"colorbar\":{\"outlinewidth\":0,\"ticks\":\"\"}},\"marker\":{\"colorbar\":{\"outlinewidth\":0,\"ticks\":\"\"}}}],\"scattermapbox\":[{\"type\":\"scattermapbox\",\"marker\":{\"colorbar\":{\"outlinewidth\":0,\"ticks\":\"\"}}}],\"scatterternary\":[{\"type\":\"scatterternary\",\"marker\":{\"colorbar\":{\"outlinewidth\":0,\"ticks\":\"\"}}}],\"scattercarpet\":[{\"type\":\"scattercarpet\",\"marker\":{\"colorbar\":{\"outlinewidth\":0,\"ticks\":\"\"}}}],\"carpet\":[{\"aaxis\":{\"endlinecolor\":\"#2a3f5f\",\"gridcolor\":\"#C8D4E3\",\"linecolor\":\"#C8D4E3\",\"minorgridcolor\":\"#C8D4E3\",\"startlinecolor\":\"#2a3f5f\"},\"baxis\":{\"endlinecolor\":\"#2a3f5f\",\"gridcolor\":\"#C8D4E3\",\"linecolor\":\"#C8D4E3\",\"minorgridcolor\":\"#C8D4E3\",\"startlinecolor\":\"#2a3f5f\"},\"type\":\"carpet\"}],\"table\":[{\"cells\":{\"fill\":{\"color\":\"#EBF0F8\"},\"line\":{\"color\":\"white\"}},\"header\":{\"fill\":{\"color\":\"#C8D4E3\"},\"line\":{\"color\":\"white\"}},\"type\":\"table\"}],\"barpolar\":[{\"marker\":{\"line\":{\"color\":\"white\",\"width\":0.5},\"pattern\":{\"fillmode\":\"overlay\",\"size\":10,\"solidity\":0.2}},\"type\":\"barpolar\"}],\"pie\":[{\"automargin\":true,\"type\":\"pie\"}]},\"layout\":{\"autotypenumbers\":\"strict\",\"colorway\":[\"#636efa\",\"#EF553B\",\"#00cc96\",\"#ab63fa\",\"#FFA15A\",\"#19d3f3\",\"#FF6692\",\"#B6E880\",\"#FF97FF\",\"#FECB52\"],\"font\":{\"color\":\"#2a3f5f\"},\"hovermode\":\"closest\",\"hoverlabel\":{\"align\":\"left\"},\"paper_bgcolor\":\"white\",\"plot_bgcolor\":\"white\",\"polar\":{\"bgcolor\":\"white\",\"angularaxis\":{\"gridcolor\":\"#EBF0F8\",\"linecolor\":\"#EBF0F8\",\"ticks\":\"\"},\"radialaxis\":{\"gridcolor\":\"#EBF0F8\",\"linecolor\":\"#EBF0F8\",\"ticks\":\"\"}},\"ternary\":{\"bgcolor\":\"white\",\"aaxis\":{\"gridcolor\":\"#DFE8F3\",\"linecolor\":\"#A2B1C6\",\"ticks\":\"\"},\"baxis\":{\"gridcolor\":\"#DFE8F3\",\"linecolor\":\"#A2B1C6\",\"ticks\":\"\"},\"caxis\":{\"gridcolor\":\"#DFE8F3\",\"linecolor\":\"#A2B1C6\",\"ticks\":\"\"}},\"coloraxis\":{\"colorbar\":{\"outlinewidth\":0,\"ticks\":\"\"}},\"colorscale\":{\"sequential\":[[0.0,\"#0d0887\"],[0.1111111111111111,\"#46039f\"],[0.2222222222222222,\"#7201a8\"],[0.3333333333333333,\"#9c179e\"],[0.4444444444444444,\"#bd3786\"],[0.5555555555555556,\"#d8576b\"],[0.6666666666666666,\"#ed7953\"],[0.7777777777777778,\"#fb9f3a\"],[0.8888888888888888,\"#fdca26\"],[1.0,\"#f0f921\"]],\"sequentialminus\":[[0.0,\"#0d0887\"],[0.1111111111111111,\"#46039f\"],[0.2222222222222222,\"#7201a8\"],[0.3333333333333333,\"#9c179e\"],[0.4444444444444444,\"#bd3786\"],[0.5555555555555556,\"#d8576b\"],[0.6666666666666666,\"#ed7953\"],[0.7777777777777778,\"#fb9f3a\"],[0.8888888888888888,\"#fdca26\"],[1.0,\"#f0f921\"]],\"diverging\":[[0,\"#8e0152\"],[0.1,\"#c51b7d\"],[0.2,\"#de77ae\"],[0.3,\"#f1b6da\"],[0.4,\"#fde0ef\"],[0.5,\"#f7f7f7\"],[0.6,\"#e6f5d0\"],[0.7,\"#b8e186\"],[0.8,\"#7fbc41\"],[0.9,\"#4d9221\"],[1,\"#276419\"]]},\"xaxis\":{\"gridcolor\":\"#EBF0F8\",\"linecolor\":\"#EBF0F8\",\"ticks\":\"\",\"title\":{\"standoff\":15},\"zerolinecolor\":\"#EBF0F8\",\"automargin\":true,\"zerolinewidth\":2},\"yaxis\":{\"gridcolor\":\"#EBF0F8\",\"linecolor\":\"#EBF0F8\",\"ticks\":\"\",\"title\":{\"standoff\":15},\"zerolinecolor\":\"#EBF0F8\",\"automargin\":true,\"zerolinewidth\":2},\"scene\":{\"xaxis\":{\"backgroundcolor\":\"white\",\"gridcolor\":\"#DFE8F3\",\"linecolor\":\"#EBF0F8\",\"showbackground\":true,\"ticks\":\"\",\"zerolinecolor\":\"#EBF0F8\",\"gridwidth\":2},\"yaxis\":{\"backgroundcolor\":\"white\",\"gridcolor\":\"#DFE8F3\",\"linecolor\":\"#EBF0F8\",\"showbackground\":true,\"ticks\":\"\",\"zerolinecolor\":\"#EBF0F8\",\"gridwidth\":2},\"zaxis\":{\"backgroundcolor\":\"white\",\"gridcolor\":\"#DFE8F3\",\"linecolor\":\"#EBF0F8\",\"showbackground\":true,\"ticks\":\"\",\"zerolinecolor\":\"#EBF0F8\",\"gridwidth\":2}},\"shapedefaults\":{\"line\":{\"color\":\"#2a3f5f\"}},\"annotationdefaults\":{\"arrowcolor\":\"#2a3f5f\",\"arrowhead\":0,\"arrowwidth\":1},\"geo\":{\"bgcolor\":\"white\",\"landcolor\":\"white\",\"subunitcolor\":\"#C8D4E3\",\"showland\":true,\"showlakes\":true,\"lakecolor\":\"white\"},\"title\":{\"x\":0.05},\"mapbox\":{\"style\":\"light\"}}},\"xaxis\":{\"anchor\":\"y\",\"domain\":[0.0,1.0],\"side\":\"top\"},\"yaxis\":{\"anchor\":\"x\",\"domain\":[0.0,1.0],\"autorange\":\"reversed\"},\"coloraxis\":{\"colorscale\":[[0.0,\"rgb(5,48,97)\"],[0.1,\"rgb(33,102,172)\"],[0.2,\"rgb(67,147,195)\"],[0.3,\"rgb(146,197,222)\"],[0.4,\"rgb(209,229,240)\"],[0.5,\"rgb(247,247,247)\"],[0.6,\"rgb(253,219,199)\"],[0.7,\"rgb(244,165,130)\"],[0.8,\"rgb(214,96,77)\"],[0.9,\"rgb(178,24,43)\"],[1.0,\"rgb(103,0,31)\"]],\"cmin\":-1,\"cmax\":1},\"title\":{\"text\":\"Correlation Matrix (Latest Snapshot)\"}},                        {\"responsive\": true}                    ).then(function(){\n",
              "                            \n",
              "var gd = document.getElementById('4bcc582b-ea58-472c-8242-270693516793');\n",
              "var x = new MutationObserver(function (mutations, observer) {{\n",
              "        var display = window.getComputedStyle(gd).display;\n",
              "        if (!display || display === 'none') {{\n",
              "            console.log([gd, 'removed!']);\n",
              "            Plotly.purge(gd);\n",
              "            observer.disconnect();\n",
              "        }}\n",
              "}});\n",
              "\n",
              "// Listen for the removal of the full notebook cells\n",
              "var notebookContainer = gd.closest('#notebook-container');\n",
              "if (notebookContainer) {{\n",
              "    x.observe(notebookContainer, {childList: true});\n",
              "}}\n",
              "\n",
              "// Listen for the clearing of the current output cell\n",
              "var outputEl = gd.closest('.output');\n",
              "if (outputEl) {{\n",
              "    x.observe(outputEl, {childList: true});\n",
              "}}\n",
              "\n",
              "                        })                };                            </script>        </div>\n",
              "</body>\n",
              "</html>"
            ]
          },
          "metadata": {}
        }
      ]
    },
    {
      "cell_type": "markdown",
      "source": [
        "#Regression Analysis"
      ],
      "metadata": {
        "id": "t48Po4Z2vcKO"
      },
      "id": "t48Po4Z2vcKO"
    },
    {
      "cell_type": "code",
      "execution_count": null,
      "id": "9048f90d",
      "metadata": {
        "colab": {
          "base_uri": "https://localhost:8080/"
        },
        "id": "9048f90d",
        "outputId": "51068be7-7ee3-4a7d-a115-da3a8f2eb17e"
      },
      "outputs": [
        {
          "output_type": "stream",
          "name": "stdout",
          "text": [
            "STEP 5: Running regression analysis\n",
            "                            OLS Regression Results                            \n",
            "==============================================================================\n",
            "Dep. Variable:              log_price   R-squared:                       0.150\n",
            "Model:                            OLS   Adj. R-squared:                  0.099\n",
            "Method:                 Least Squares   F-statistic:                     7.199\n",
            "Date:                Thu, 23 Oct 2025   Prob (F-statistic):           7.13e-05\n",
            "Time:                        19:41:05   Log-Likelihood:                -41.305\n",
            "No. Observations:                  71   AIC:                             92.61\n",
            "Df Residuals:                      66   BIC:                             103.9\n",
            "Df Model:                           4                                         \n",
            "Covariance Type:                  HC3                                         \n",
            "====================================================================================\n",
            "                       coef    std err          z      P>|z|      [0.025      0.975]\n",
            "------------------------------------------------------------------------------------\n",
            "const               -0.1121      0.768     -0.146      0.884      -1.617       1.393\n",
            "log_gdp              0.0927      0.093      0.996      0.319      -0.090       0.275\n",
            "inflation_pct        0.0032      0.012      0.262      0.794      -0.021       0.027\n",
            "unemployment_pct     0.0045      0.025      0.179      0.858      -0.045       0.054\n",
            "urban_pct            0.0055      0.004      1.309      0.190      -0.003       0.014\n",
            "==============================================================================\n",
            "Omnibus:                       66.300   Durbin-Watson:                   1.914\n",
            "Prob(Omnibus):                  0.000   Jarque-Bera (JB):             1034.200\n",
            "Skew:                           2.273   Prob(JB):                    2.67e-225\n",
            "Kurtosis:                      21.136   Cond. No.                     1.36e+03\n",
            "==============================================================================\n",
            "\n",
            "Notes:\n",
            "[1] Standard Errors are heteroscedasticity robust (HC3)\n",
            "[2] The condition number is large, 1.36e+03. This might indicate that there are\n",
            "strong multicollinearity or other numerical problems.\n",
            "   ✓ Saved regression output\n"
          ]
        }
      ],
      "source": [
        "print(\"STEP 5: Running regression analysis\")\n",
        "\n",
        "# OLS Regression with robust standard errors\n",
        "reg_data = latest.dropna(subset=['log_price', 'log_gdp', 'inflation_pct', 'unemployment_pct', 'urban_pct'])\n",
        "X = reg_data[['log_gdp', 'inflation_pct', 'unemployment_pct', 'urban_pct']]\n",
        "X = sm.add_constant(X)\n",
        "y = reg_data['log_price']\n",
        "\n",
        "model = sm.OLS(y, X).fit(cov_type='HC3')  # HC3 = robust to heteroskedasticity\n",
        "print(model.summary())\n",
        "\n",
        "# Save regression output\n",
        "with open(DATA_DIR / \"regression_results.txt\", 'w') as f:\n",
        "    f.write(model.summary().as_text())\n",
        "print(f\"   ✓ Saved regression output\")\n"
      ]
    },
    {
      "cell_type": "code",
      "execution_count": null,
      "id": "02db31ca",
      "metadata": {
        "colab": {
          "base_uri": "https://localhost:8080/"
        },
        "id": "02db31ca",
        "outputId": "95018858-1f24-4049-e578-7a76100ba988"
      },
      "outputs": [
        {
          "output_type": "stream",
          "name": "stdout",
          "text": [
            "STEP 6: K-Means clustering\n",
            "   ✓ Saved figures/09_country_clusters.html\n"
          ]
        }
      ],
      "source": [
        "print(\"STEP 6: K-Means clustering\")\n",
        "\n",
        "cluster_vars = [c for c in [\"usd_price\",\"gdp_ppp_pc\",\"inflation_pct\",\"unemployment_pct\",\"gini_index\"] if c in latest.columns]\n",
        "cd = latest[[\"iso3\",\"country\"] + cluster_vars].dropna()\n",
        "\n",
        "if len(cd) >= 10 and len(cluster_vars) >= 2:\n",
        "    scaler = StandardScaler()\n",
        "    Xs = scaler.fit_transform(cd[cluster_vars])\n",
        "    n_clusters = max(2, min(4, len(cd)//3))\n",
        "    kmeans = KMeans(n_clusters=n_clusters, random_state=42, n_init=10)\n",
        "    cd[\"cluster\"] = kmeans.fit_predict(Xs)\n",
        "    fig9 = px.scatter(cd, x=\"gdp_ppp_pc\", y=\"usd_price\",\n",
        "                      color=\"cluster\", hover_name=\"country\",\n",
        "                      title=\"Country Clusters (K-Means)\",\n",
        "                      labels={\"gdp_ppp_pc\":\"GDP per capita (PPP)\",\"usd_price\":\"Price (USD)\"})\n",
        "    save_fig(fig9, \"09_country_clusters\")\n",
        "else:\n",
        "    print(\"   ⚠️ Not enough complete rows for clustering; skipped.\")\n"
      ]
    },
    {
      "cell_type": "markdown",
      "source": [
        "#Questions"
      ],
      "metadata": {
        "id": "XWvcvYQoviZQ"
      },
      "id": "XWvcvYQoviZQ"
    },
    {
      "cell_type": "code",
      "execution_count": null,
      "id": "tbjVsxACLuDv",
      "metadata": {
        "colab": {
          "base_uri": "https://localhost:8080/"
        },
        "id": "tbjVsxACLuDv",
        "outputId": "037905e2-0413-4707-bfc0-8b9559264ad5"
      },
      "outputs": [
        {
          "output_type": "stream",
          "name": "stdout",
          "text": [
            "\n",
            "Q1) Global mean, median, and 95% CI for latest Big Mac price (USD)\n",
            "  n=73, mean=$4.96, median=$3.69, 95% CI=($2.70, $7.22)\n"
          ]
        }
      ],
      "source": [
        "# Q1 — What are the global mean/median Big Mac prices in the latest snapshot, and a 95% CI for the mean?\n",
        "print(\"\\nQ1) Global mean, median, and 95% CI for latest Big Mac price (USD)\")\n",
        "from statsmodels.stats.weightstats import DescrStatsW\n",
        "\n",
        "_ = latest.dropna(subset=[\"usd_price\"]).copy()\n",
        "ds = DescrStatsW(_[\"usd_price\"].values)\n",
        "mean_ = ds.mean\n",
        "ci_low, ci_high = ds.tconfint_mean(alpha=0.05)\n",
        "median_ = _[\"usd_price\"].median()\n",
        "n_ = len(_)\n",
        "print(f\"  n={n_}, mean=${mean_:.2f}, median=${median_:.2f}, 95% CI=(${ci_low:.2f}, ${ci_high:.2f})\")\n"
      ]
    },
    {
      "cell_type": "code",
      "execution_count": null,
      "id": "AgiahuFkMrzt",
      "metadata": {
        "colab": {
          "base_uri": "https://localhost:8080/"
        },
        "id": "AgiahuFkMrzt",
        "outputId": "1ad47f1f-5b45-45b7-a8a4-5595e7106eb1"
      },
      "outputs": [
        {
          "output_type": "stream",
          "name": "stdout",
          "text": [
            "\n",
            "Q2) Correlations : log(price) with log(GDP per capita) and other macros\n",
            "                  log_price  log_gdp  inflation_pct  unemployment_pct  urban_pct  gini_index\n",
            "log_price             1.000    0.199          0.229             0.060      0.348      -0.099\n",
            "log_gdp               0.199    1.000         -0.254            -0.220      0.507      -0.382\n",
            "inflation_pct         0.229   -0.254          1.000             0.108      0.125       0.169\n",
            "unemployment_pct      0.060   -0.220          0.108             1.000      0.126       0.566\n",
            "urban_pct             0.348    0.507          0.125             0.126      1.000       0.172\n",
            "gini_index           -0.099   -0.382          0.169             0.566      0.172       1.000\n",
            "  Corr(log_price, log_gdp) = 0.199\n"
          ]
        }
      ],
      "source": [
        "# Q2 — What is the correlation between log price and log GDP per capita? Also print simple correlations for other macros.\n",
        "print(\"\\nQ2) Correlations : log(price) with log(GDP per capita) and other macros\")\n",
        "cols = [c for c in [\"log_price\",\"log_gdp\",\"inflation_pct\",\"unemployment_pct\",\"urban_pct\",\"gini_index\"] if c in latest.columns]\n",
        "corr = latest[cols].dropna().corr().round(3)\n",
        "print(corr.to_string())\n",
        "print(f\"  Corr(log_price, log_gdp) = {corr.loc['log_price','log_gdp']:.3f}\")"
      ]
    },
    {
      "cell_type": "code",
      "execution_count": null,
      "id": "RDHpbd0JNkzm",
      "metadata": {
        "colab": {
          "base_uri": "https://localhost:8080/"
        },
        "id": "RDHpbd0JNkzm",
        "outputId": "4ed34cc8-6bad-4994-cff9-63b8f944a978"
      },
      "outputs": [
        {
          "output_type": "stream",
          "name": "stdout",
          "text": [
            "\n",
            "Q3) Welch t-test: mean price in Q4-High vs Q1-Low income groups \n",
            "  n_high=32, mean_high=$4.52\n",
            "  n_low =11, mean_low =$$10.67\n",
            "  Welch t=-0.816, df≈10.0, p-value=0.4335\n"
          ]
        }
      ],
      "source": [
        "# Q3 — Are prices higher in high-income countries than in low-income countries?\n",
        "print(\"\\nQ3) Welch t-test: mean price in Q4-High vs Q1-Low income groups \")\n",
        "from statsmodels.stats.weightstats import ttest_ind\n",
        "\n",
        "sub = latest.dropna(subset=[\"usd_price\",\"income_quartile\"]).copy()\n",
        "A = sub.loc[sub[\"income_quartile\"].eq(\"Q4-High\"), \"usd_price\"].values\n",
        "B = sub.loc[sub[\"income_quartile\"].eq(\"Q1-Low\"),  \"usd_price\"].values\n",
        "if len(A) >= 5 and len(B) >= 5:\n",
        "    t, p, dfree = ttest_ind(A, B, usevar='unequal')\n",
        "    print(f\"  n_high={len(A)}, mean_high=${A.mean():.2f}\")\n",
        "    print(f\"  n_low ={len(B)}, mean_low =$${B.mean():.2f}\")\n",
        "    print(f\"  Welch t={t:.3f}, df≈{dfree:.1f}, p-value={p:.4f}\")"
      ]
    },
    {
      "cell_type": "code",
      "execution_count": null,
      "id": "U8SUJbHkN0fT",
      "metadata": {
        "colab": {
          "base_uri": "https://localhost:8080/"
        },
        "id": "U8SUJbHkN0fT",
        "outputId": "997945df-1021-4abc-c961-f0c2809250ad"
      },
      "outputs": [
        {
          "output_type": "stream",
          "name": "stdout",
          "text": [
            "\n",
            "Q4) Share below U.S. price and average price multiple vs U.S. \n",
            "  Countries with price < U.S.: 93.2%\n",
            "  Average price multiple vs U.S.: 0.860×\n"
          ]
        }
      ],
      "source": [
        "# Q4 — What share of countries have Big Mac prices below the U.S., and what is the average multiple vs. the U.S.?\n",
        "print(\"\\nQ4) Share below U.S. price and average price multiple vs U.S. \")\n",
        "q = latest.dropna(subset=[\"rel_to_us\"]).copy()\n",
        "share_below = (q[\"rel_to_us\"] < 1).mean()\n",
        "avg_multiple = q[\"rel_to_us\"].mean()\n",
        "print(f\"  Countries with price < U.S.: {share_below*100:.1f}%\")\n",
        "print(f\"  Average price multiple vs U.S.: {avg_multiple:.3f}×\")"
      ]
    },
    {
      "cell_type": "code",
      "execution_count": null,
      "id": "H7fC70IQN87n",
      "metadata": {
        "colab": {
          "base_uri": "https://localhost:8080/"
        },
        "id": "H7fC70IQN87n",
        "outputId": "39e9bdf5-4314-4c66-c4e9-0809bbc60956"
      },
      "outputs": [
        {
          "output_type": "stream",
          "name": "stdout",
          "text": [
            "\n",
            "Q5) Global CAGR of average price from first to last year\n",
            "  2000 → 2022: mean price $2.06 → $4.45\n",
            "  CAGR = 3.57% per year over 22 years\n"
          ]
        }
      ],
      "source": [
        "# Q5 — What is the global annualized price growth (CAGR) from the first to last year available?\n",
        "print(\"\\nQ5) Global CAGR of average price from first to last year\")\n",
        "yearly = df.groupby(\"year\", as_index=False)[\"usd_price\"].mean().dropna()\n",
        "p0, pT = yearly[\"usd_price\"].iloc[0], yearly[\"usd_price\"].iloc[-1]\n",
        "n_years = int(yearly[\"year\"].iloc[-1] - yearly[\"year\"].iloc[0])\n",
        "cagr = (pT/p0)**(1/max(n_years,1)) - 1 if p0>0 else np.nan\n",
        "print(f\"  {yearly['year'].iloc[0]} → {yearly['year'].iloc[-1]}: mean price ${p0:.2f} → ${pT:.2f}\")\n",
        "print(f\"  CAGR = {cagr*100:.2f}% per year over {n_years} years\")"
      ]
    },
    {
      "cell_type": "code",
      "execution_count": null,
      "id": "fLlkmt0LOD9o",
      "metadata": {
        "colab": {
          "base_uri": "https://localhost:8080/"
        },
        "id": "fLlkmt0LOD9o",
        "outputId": "b92595e8-50c9-448d-f34d-6c903a7ddcc5"
      },
      "outputs": [
        {
          "output_type": "stream",
          "name": "stdout",
          "text": [
            "\n",
            "Q6) Top-5 most volatile countries by std dev of Δlog(price) YoY\n",
            "iso3      country volatility_std_dlog\n",
            " LBN      Lebanon               1.288\n",
            " VEN    Venezuela               0.615\n",
            " ARG    Argentina               0.317\n",
            " SAU Saudi Arabia               0.239\n",
            " RUS       Russia               0.171\n"
          ]
        }
      ],
      "source": [
        "# Q6 — Which 5 countries are most volatile by the std. dev. of YoY log price changes?\n",
        "print(\"\\nQ6) Top-5 most volatile countries by std dev of Δlog(price) YoY\")\n",
        "def _yoy_vol(g):\n",
        "    g = g.sort_values(\"year\")\n",
        "    lp = np.log(g[\"usd_price\"]).replace([np.inf,-np.inf], np.nan).dropna()\n",
        "    dlp = lp.diff().dropna()\n",
        "    return dlp.std() if len(dlp)>0 else np.nan\n",
        "\n",
        "vol = df.groupby([\"iso3\",\"country\"]).apply(_yoy_vol).reset_index(name=\"volatility_std_dlog\").dropna()\n",
        "top5 = vol.sort_values(\"volatility_std_dlog\", ascending=False).head(5)\n",
        "print(top5.to_string(index=False, formatters={\"volatility_std_dlog\":lambda x: f\"{x:.3f}\"}))\n",
        "(top5).to_csv(DATA_DIR/\"Q6_top5_volatility.csv\", index=False)"
      ]
    },
    {
      "cell_type": "code",
      "execution_count": null,
      "id": "GQAy21ggOKxo",
      "metadata": {
        "colab": {
          "base_uri": "https://localhost:8080/"
        },
        "id": "GQAy21ggOKxo",
        "outputId": "7011d5b7-afc8-4d59-8391-a6c6a3b8fd02"
      },
      "outputs": [
        {
          "output_type": "stream",
          "name": "stdout",
          "text": [
            "\n",
            "Q7) OLS: log_price ~ log_gdp \n",
            "  n=71, beta0=0.087, beta_log_gdp=0.120, R^2=0.037, AIC=95.52\n"
          ]
        }
      ],
      "source": [
        "# Q7 — Simple OLS: log_price ~ log_gdp\n",
        "print(\"\\nQ7) OLS: log_price ~ log_gdp \")\n",
        "import statsmodels.api as sm\n",
        "sub = latest.dropna(subset=[\"log_price\",\"log_gdp\"]).copy()\n",
        "X = sm.add_constant(sub[[\"log_gdp\"]])\n",
        "y = sub[\"log_price\"]\n",
        "model_simple = sm.OLS(y, X).fit()\n",
        "b0, b1 = model_simple.params[\"const\"], model_simple.params[\"log_gdp\"]\n",
        "print(f\"  n={int(model_simple.nobs)}, beta0={b0:.3f}, beta_log_gdp={b1:.3f}, R^2={model_simple.rsquared:.3f}, AIC={model_simple.aic:.2f}\")"
      ]
    },
    {
      "cell_type": "code",
      "execution_count": null,
      "id": "PkO_N57POVVE",
      "metadata": {
        "colab": {
          "base_uri": "https://localhost:8080/"
        },
        "id": "PkO_N57POVVE",
        "outputId": "7b201253-dc6c-4a87-ba56-9b207cbb24f1"
      },
      "outputs": [
        {
          "output_type": "stream",
          "name": "stdout",
          "text": [
            "\n",
            "Q8) Train/test RMSE & MAE for predicting price from macros \n",
            "  Test RMSE=$2.190, MAE=$1.576, n_train=53, n_test=18\n"
          ]
        }
      ],
      "source": [
        "# Q8 — Train/test performance (sklearn metrics)\n",
        "print(\"\\nQ8) Train/test RMSE & MAE for predicting price from macros \")\n",
        "from sklearn.model_selection import train_test_split\n",
        "from sklearn.linear_model import LinearRegression\n",
        "from sklearn.metrics import mean_squared_error, mean_absolute_error\n",
        "import numpy as np\n",
        "\n",
        "feat = [\"log_gdp\",\"inflation_pct\",\"unemployment_pct\",\"urban_pct\"]\n",
        "tt = latest.dropna(subset=[\"usd_price\"]+feat).copy()\n",
        "X = tt[feat].values\n",
        "y = tt[\"usd_price\"].values\n",
        "X_tr, X_te, y_tr, y_te = train_test_split(X, y, test_size=0.25, random_state=42)\n",
        "\n",
        "lr = LinearRegression().fit(X_tr, y_tr)\n",
        "pred = lr.predict(X_te)\n",
        "mse = mean_squared_error(y_te, pred) # Get MSE\n",
        "rmse = np.sqrt(mse) # Calculate RMSE\n",
        "mae  = mean_absolute_error(y_te, pred)\n",
        "print(f\"  Test RMSE=${rmse:.3f}, MAE=${mae:.3f}, n_train={len(y_tr)}, n_test={len(y_te)}\")"
      ]
    },
    {
      "cell_type": "code",
      "execution_count": null,
      "id": "kAgFVB3dOg_r",
      "metadata": {
        "colab": {
          "base_uri": "https://localhost:8080/"
        },
        "id": "kAgFVB3dOg_r",
        "outputId": "c5fef12a-e208-4ab4-aac5-888609a664c8"
      },
      "outputs": [
        {
          "output_type": "stream",
          "name": "stdout",
          "text": [
            "\n",
            "Q9) Δlog(price) on same-year inflation (pooled); report coefficient and p-value\n",
            "  β̂_inflation = 0.0006, p-value = 0.6074, n=1802\n"
          ]
        }
      ],
      "source": [
        "# Q9 — Inflation pass-through in changes\n",
        "print(\"\\nQ9) Δlog(price) on same-year inflation (pooled); report coefficient and p-value\")\n",
        "d = df.sort_values([\"iso3\",\"year\"]).copy()\n",
        "d[\"log_price\"]  = np.log(d[\"usd_price\"])\n",
        "d[\"dlog_price\"] = d.groupby(\"iso3\")[\"log_price\"].diff()\n",
        "reg = d.dropna(subset=[\"dlog_price\",\"inflation_pct\"]).copy()\n",
        "\n",
        "X = sm.add_constant(reg[[\"inflation_pct\"]])\n",
        "y = reg[\"dlog_price\"]\n",
        "m_pass = sm.OLS(y, X).fit(cov_type=\"HC3\")\n",
        "coef = m_pass.params[\"inflation_pct\"]\n",
        "pval = m_pass.pvalues[\"inflation_pct\"]\n",
        "print(f\"  β̂_inflation = {coef:.4f}, p-value = {pval:.4f}, n={int(m_pass.nobs)}\")\n"
      ]
    },
    {
      "cell_type": "code",
      "execution_count": null,
      "id": "x3oe5GpXOksc",
      "metadata": {
        "colab": {
          "base_uri": "https://localhost:8080/"
        },
        "id": "x3oe5GpXOksc",
        "outputId": "ad4e30b6-0a24-45c8-e959-b987a8a31057"
      },
      "outputs": [
        {
          "output_type": "stream",
          "name": "stdout",
          "text": [
            "\n",
            "Q10) Lag-1 autocorrelation of yearly global mean price\n",
            "  ρ(1) = 0.918 (years 2000–2022)\n"
          ]
        }
      ],
      "source": [
        "# Q10 — Lag-1 autocorrelation of global mean price\n",
        "print(\"\\nQ10) Lag-1 autocorrelation of yearly global mean price\")\n",
        "yr = df.groupby(\"year\", as_index=False)[\"usd_price\"].mean().dropna()\n",
        "x = yr[\"usd_price\"].values\n",
        "ac1 = np.corrcoef(x[1:], x[:-1])[0,1] if len(x) > 2 else np.nan\n",
        "print(f\"  ρ(1) = {ac1:.3f} (years {int(yr['year'].min())}–{int(yr['year'].max())})\")"
      ]
    },
    {
      "cell_type": "code",
      "execution_count": null,
      "id": "vEN13mypOxzZ",
      "metadata": {
        "colab": {
          "base_uri": "https://localhost:8080/"
        },
        "id": "vEN13mypOxzZ",
        "outputId": "ff77c4f7-95d6-4339-db64-1e02b2467766"
      },
      "outputs": [
        {
          "output_type": "stream",
          "name": "stdout",
          "text": [
            "\n",
            "Q11) Top-10 worst affordability (highest burger / daily GDPpc)\n",
            "    country afford_ratio\n",
            "    Lebanon        2.553\n",
            "   Pakistan        0.195\n",
            "   Honduras        0.194\n",
            "  Nicaragua        0.181\n",
            "     Jordan        0.119\n",
            "Philippines        0.099\n",
            "  Sri Lanka        0.096\n",
            "      India        0.095\n",
            "  Guatemala        0.094\n",
            "       Peru        0.078\n"
          ]
        }
      ],
      "source": [
        "# Q11 — Worst affordability ranking (latest)\n",
        "print(\"\\nQ11) Top-10 worst affordability (highest burger / daily GDPpc)\")\n",
        "tab = latest.dropna(subset=[\"afford_ratio\"])[[\"country\",\"afford_ratio\"]].sort_values(\"afford_ratio\", ascending=False).head(10)\n",
        "print(tab.to_string(index=False, formatters={\"afford_ratio\":lambda x: f\"{x:.3f}\"}))\n",
        "tab.to_csv(DATA_DIR/\"Q12_top10_worst_affordability.csv\", index=False)"
      ]
    }
  ],
  "metadata": {
    "colab": {
      "provenance": []
    },
    "kernelspec": {
      "display_name": "Python 3",
      "name": "python3"
    },
    "language_info": {
      "name": "python"
    }
  },
  "nbformat": 4,
  "nbformat_minor": 5
}